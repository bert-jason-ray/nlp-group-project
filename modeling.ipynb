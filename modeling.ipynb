{
 "cells": [
  {
   "cell_type": "code",
   "execution_count": 1,
   "id": "5de86885",
   "metadata": {},
   "outputs": [
    {
     "name": "stderr",
     "output_type": "stream",
     "text": [
      "<frozen importlib._bootstrap>:228: RuntimeWarning: scipy._lib.messagestream.MessageStream size changed, may indicate binary incompatibility. Expected 56 from C header, got 64 from PyObject\n"
     ]
    }
   ],
   "source": [
    "# DummyClassifier from sklearn is used to create a baseline accuracy.\n",
    "from sklearn.dummy import DummyClassifier \n",
    "# TfidfVectorizer is used to create a sparce matrices of tf-idf scores to run through modeling\n",
    "from sklearn.feature_extraction.text import TfidfVectorizer\n",
    "# Import to split the data into train, test, split\n",
    "from sklearn.model_selection import train_test_split\n",
    "# Import to model the data\n",
    "from sklearn.tree import DecisionTreeClassifier, plot_tree\n",
    "from sklearn.ensemble import RandomForestClassifier\n",
    "from sklearn.neighbors import KNeighborsClassifier\n",
    "from sklearn.linear_model import LogisticRegression\n",
    "# Import to understand the data modeling scores\n",
    "from sklearn.metrics import classification_report, confusion_matrix, recall_score, plot_confusion_matrix, accuracy_score\n",
    "import acquire\n",
    "import prepare\n",
    "import pandas as pd\n",
    "import seaborn as sns\n",
    "import matplotlib.pyplot as plt\n",
    "from statistics import mean\n",
    "rs = 123"
   ]
  },
  {
   "cell_type": "code",
   "execution_count": 2,
   "id": "89a88c80",
   "metadata": {},
   "outputs": [],
   "source": [
    "df = acquire.get_github_data()"
   ]
  },
  {
   "cell_type": "code",
   "execution_count": 3,
   "id": "0c8e024e",
   "metadata": {},
   "outputs": [],
   "source": [
    "# prepare the data by creating clean, stemmed and lemmatized columns\n",
    "df = prepare.prep_github_data(df, column='readme_contents')"
   ]
  },
  {
   "cell_type": "code",
   "execution_count": 4,
   "id": "0022880f",
   "metadata": {},
   "outputs": [
    {
     "name": "stdout",
     "output_type": "stream",
     "text": [
      "train---> (89, 6)\n",
      "validate---> (39, 6)\n",
      "test---> (32, 6)\n"
     ]
    }
   ],
   "source": [
    "train, validate, test = prepare.split_github_data(df)"
   ]
  },
  {
   "cell_type": "code",
   "execution_count": 5,
   "id": "21dc76ce",
   "metadata": {},
   "outputs": [
    {
     "data": {
      "text/plain": [
       "JavaScript    0.42500\n",
       "Python        0.36250\n",
       "not_top       0.14375\n",
       "TypeScript    0.06875\n",
       "Name: language, dtype: float64"
      ]
     },
     "execution_count": 5,
     "metadata": {},
     "output_type": "execute_result"
    }
   ],
   "source": [
    "# Creates a list of top three languages from dataframe\n",
    "top_languages = ['JavaScript','Python','TypeScript']\n",
    "# Create a new version of our df to transform for modeling\n",
    "model = df.copy()\n",
    "# Rename the languages that are not in the top three \"not_top\"\n",
    "model['language'] = model.language.apply(lambda lang : lang if lang in top_languages else \"not_top\")\n",
    "# show the distribution\n",
    "model.language.value_counts(normalize=True)"
   ]
  },
  {
   "cell_type": "code",
   "execution_count": 6,
   "id": "39709d2a",
   "metadata": {},
   "outputs": [
    {
     "name": "stdout",
     "output_type": "stream",
     "text": [
      "Baseline Accuracy: 43%\n"
     ]
    }
   ],
   "source": [
    "# baseline prediction\n",
    "print(f'Baseline Accuracy: {round(max(train.language.value_counts()) / train.shape[0] *100)}%')"
   ]
  },
  {
   "cell_type": "code",
   "execution_count": 7,
   "id": "221c159e",
   "metadata": {},
   "outputs": [],
   "source": [
    "# Create the tf-idf model\n",
    "tfidf = TfidfVectorizer()\n",
    "# Fit the model and create the X, y variables for modeling\n",
    "X = tfidf.fit_transform(model.lemmatized)\n",
    "y = model.language \n",
    "# Split the data into train (55%) validate (24%) test (20%) split\n",
    "X_train_validate, X_test, y_train_validate, y_test = train_test_split(X, y, stratify=y, test_size=.2, random_state = rs)\n",
    "X_train, X_validate, y_train, y_validate = train_test_split(X_train_validate, y_train_validate, stratify=y_train_validate, test_size=.3, random_state = rs)"
   ]
  },
  {
   "cell_type": "code",
   "execution_count": 8,
   "id": "df08c530",
   "metadata": {},
   "outputs": [],
   "source": [
    "# Create Result Dataframes to store actual and predictive scores from the models\n",
    "train = pd.DataFrame(dict(actual=y_train))\n",
    "validate = pd.DataFrame(dict(actual=y_validate))\n",
    "test = pd.DataFrame(dict(actual=y_test))"
   ]
  },
  {
   "cell_type": "code",
   "execution_count": 9,
   "id": "a2699ada",
   "metadata": {},
   "outputs": [],
   "source": [
    "# Create and fit each model\n",
    "lm = LogisticRegression(multi_class='multinomial',random_state=rs).fit(X_train, y_train)\n",
    "dtc = DecisionTreeClassifier(max_depth=5, random_state=rs).fit(X_train, y_train)\n",
    "rf = RandomForestClassifier(min_samples_leaf=3,max_depth=5, random_state=rs).fit(X_train,y_train)\n",
    "knn = KNeighborsClassifier().fit(X_train,y_train)\n"
   ]
  },
  {
   "cell_type": "code",
   "execution_count": 10,
   "id": "a2c32f59",
   "metadata": {},
   "outputs": [],
   "source": [
    "# Store the train predictions in our result df\n",
    "train['lm_predicted'] = lm.predict(X_train)\n",
    "train['dtc_predicted'] = dtc.predict(X_train)\n",
    "train['rf_predicted'] = rf.predict(X_train)\n",
    "train['knn_predicted'] = knn.predict(X_train)"
   ]
  },
  {
   "cell_type": "code",
   "execution_count": 11,
   "id": "f7c65489",
   "metadata": {},
   "outputs": [
    {
     "name": "stdout",
     "output_type": "stream",
     "text": [
      "Logistic Regression Accuracy: 82.02%\n",
      "---\n",
      "Confusion Matrix\n",
      "actual        JavaScript  Python  TypeScript  not_top\n",
      "lm_predicted                                         \n",
      "JavaScript            38       1           6        8\n",
      "Python                 0      31           0        1\n",
      "not_top                0       0           0        4\n",
      "---\n",
      "              precision    recall  f1-score   support\n",
      "\n",
      "  JavaScript       0.72      1.00      0.84        38\n",
      "      Python       0.97      0.97      0.97        32\n",
      "  TypeScript       0.00      0.00      0.00         6\n",
      "     not_top       1.00      0.31      0.47        13\n",
      "\n",
      "    accuracy                           0.82        89\n",
      "   macro avg       0.67      0.57      0.57        89\n",
      "weighted avg       0.80      0.82      0.77        89\n",
      "\n"
     ]
    }
   ],
   "source": [
    "print('Logistic Regression Accuracy: {:.2%}'.format(accuracy_score(train.actual, train.lm_predicted)))\n",
    "print('---')\n",
    "print('Confusion Matrix')\n",
    "print(pd.crosstab(train.lm_predicted, train.actual))\n",
    "print('---')\n",
    "print(classification_report(train.actual, train.lm_predicted))"
   ]
  },
  {
   "cell_type": "code",
   "execution_count": 12,
   "id": "3ef82b5a",
   "metadata": {},
   "outputs": [
    {
     "name": "stdout",
     "output_type": "stream",
     "text": [
      "Decision Tree Accuracy: 83.15%\n",
      "---\n",
      "Confusion Matrix\n",
      "actual         JavaScript  Python  TypeScript  not_top\n",
      "dtc_predicted                                         \n",
      "JavaScript             38       8           3        4\n",
      "Python                  0      24           0        0\n",
      "TypeScript              0       0           3        0\n",
      "not_top                 0       0           0        9\n",
      "---\n",
      "              precision    recall  f1-score   support\n",
      "\n",
      "  JavaScript       0.72      1.00      0.84        38\n",
      "      Python       1.00      0.75      0.86        32\n",
      "  TypeScript       1.00      0.50      0.67         6\n",
      "     not_top       1.00      0.69      0.82        13\n",
      "\n",
      "    accuracy                           0.83        89\n",
      "   macro avg       0.93      0.74      0.79        89\n",
      "weighted avg       0.88      0.83      0.83        89\n",
      "\n"
     ]
    }
   ],
   "source": [
    "print('Decision Tree Accuracy: {:.2%}'.format(accuracy_score(train.actual, train.dtc_predicted)))\n",
    "print('---')\n",
    "print('Confusion Matrix')\n",
    "print(pd.crosstab(train.dtc_predicted, train.actual))\n",
    "print('---')\n",
    "print(classification_report(train.actual, train.dtc_predicted))"
   ]
  },
  {
   "cell_type": "code",
   "execution_count": 13,
   "id": "c33232d2",
   "metadata": {},
   "outputs": [
    {
     "name": "stdout",
     "output_type": "stream",
     "text": [
      "Random Forest Accuracy: 73.03%\n",
      "---\n",
      "Confusion Matrix\n",
      "actual        JavaScript  Python  TypeScript  not_top\n",
      "rf_predicted                                         \n",
      "JavaScript            38       8           5        9\n",
      "Python                 0      24           0        2\n",
      "TypeScript             0       0           1        0\n",
      "not_top                0       0           0        2\n",
      "---\n",
      "              precision    recall  f1-score   support\n",
      "\n",
      "  JavaScript       0.63      1.00      0.78        38\n",
      "      Python       0.92      0.75      0.83        32\n",
      "  TypeScript       1.00      0.17      0.29         6\n",
      "     not_top       1.00      0.15      0.27        13\n",
      "\n",
      "    accuracy                           0.73        89\n",
      "   macro avg       0.89      0.52      0.54        89\n",
      "weighted avg       0.82      0.73      0.69        89\n",
      "\n"
     ]
    }
   ],
   "source": [
    "print('Random Forest Accuracy: {:.2%}'.format(accuracy_score(train.actual, train.rf_predicted)))\n",
    "print('---')\n",
    "print('Confusion Matrix')\n",
    "print(pd.crosstab(train.rf_predicted, train.actual))\n",
    "print('---')\n",
    "print(classification_report(train.actual, train.rf_predicted))"
   ]
  },
  {
   "cell_type": "code",
   "execution_count": 14,
   "id": "712f6649",
   "metadata": {},
   "outputs": [
    {
     "name": "stdout",
     "output_type": "stream",
     "text": [
      "KNN Accuracy: 69.66%\n",
      "---\n",
      "Confusion Matrix\n",
      "actual         JavaScript  Python  TypeScript  not_top\n",
      "knn_predicted                                         \n",
      "JavaScript             32      10           3        5\n",
      "Python                  4      22           0        2\n",
      "TypeScript              1       0           3        1\n",
      "not_top                 1       0           0        5\n",
      "---\n",
      "              precision    recall  f1-score   support\n",
      "\n",
      "  JavaScript       0.64      0.84      0.73        38\n",
      "      Python       0.79      0.69      0.73        32\n",
      "  TypeScript       0.60      0.50      0.55         6\n",
      "     not_top       0.83      0.38      0.53        13\n",
      "\n",
      "    accuracy                           0.70        89\n",
      "   macro avg       0.71      0.60      0.63        89\n",
      "weighted avg       0.72      0.70      0.69        89\n",
      "\n"
     ]
    }
   ],
   "source": [
    "print('KNN Accuracy: {:.2%}'.format(accuracy_score(train.actual, train.knn_predicted)))\n",
    "print('---')\n",
    "print('Confusion Matrix')\n",
    "print(pd.crosstab(train.knn_predicted, train.actual))\n",
    "print('---')\n",
    "print(classification_report(train.actual, train.knn_predicted))"
   ]
  },
  {
   "cell_type": "code",
   "execution_count": 15,
   "id": "f2a5f69e",
   "metadata": {},
   "outputs": [],
   "source": [
    "# Assign the validate predictions to the results df\n",
    "validate['lm_predicted'] = lm.predict(X_validate)\n",
    "validate['dtc_predicted'] = dtc.predict(X_validate)\n",
    "validate['rf_predicted'] = rf.predict(X_validate)\n",
    "validate['knn_predicted'] = knn.predict(X_validate)"
   ]
  },
  {
   "cell_type": "code",
   "execution_count": 16,
   "id": "527f3db5",
   "metadata": {},
   "outputs": [
    {
     "name": "stdout",
     "output_type": "stream",
     "text": [
      "Logistic Regression Accuracy: 58.97%\n",
      "---\n",
      "Confusion Matrix\n",
      "actual        JavaScript  Python  TypeScript  not_top\n",
      "lm_predicted                                         \n",
      "JavaScript            16       7           3        4\n",
      "Python                 1       7           0        1\n",
      "---\n",
      "              precision    recall  f1-score   support\n",
      "\n",
      "  JavaScript       0.53      0.94      0.68        17\n",
      "      Python       0.78      0.50      0.61        14\n",
      "  TypeScript       0.00      0.00      0.00         3\n",
      "     not_top       0.00      0.00      0.00         5\n",
      "\n",
      "    accuracy                           0.59        39\n",
      "   macro avg       0.33      0.36      0.32        39\n",
      "weighted avg       0.51      0.59      0.52        39\n",
      "\n"
     ]
    }
   ],
   "source": [
    "print('Logistic Regression Accuracy: {:.2%}'.format(accuracy_score(validate.actual, validate.lm_predicted)))\n",
    "print('---')\n",
    "print('Confusion Matrix')\n",
    "print(pd.crosstab(validate.lm_predicted, validate.actual))\n",
    "print('---')\n",
    "print(classification_report(validate.actual, validate.lm_predicted))"
   ]
  },
  {
   "cell_type": "code",
   "execution_count": 17,
   "id": "1530d81a",
   "metadata": {},
   "outputs": [
    {
     "name": "stdout",
     "output_type": "stream",
     "text": [
      "Decision Tree Accuracy: 56.41%\n",
      "---\n",
      "Confusion Matrix\n",
      "actual         JavaScript  Python  TypeScript  not_top\n",
      "dtc_predicted                                         \n",
      "JavaScript             16       7           1        4\n",
      "Python                  0       5           1        0\n",
      "not_top                 1       2           1        1\n",
      "---\n",
      "              precision    recall  f1-score   support\n",
      "\n",
      "  JavaScript       0.57      0.94      0.71        17\n",
      "      Python       0.83      0.36      0.50        14\n",
      "  TypeScript       0.00      0.00      0.00         3\n",
      "     not_top       0.20      0.20      0.20         5\n",
      "\n",
      "    accuracy                           0.56        39\n",
      "   macro avg       0.40      0.37      0.35        39\n",
      "weighted avg       0.57      0.56      0.52        39\n",
      "\n"
     ]
    }
   ],
   "source": [
    "print('Decision Tree Accuracy: {:.2%}'.format(accuracy_score(validate.actual, validate.dtc_predicted)))\n",
    "print('---')\n",
    "print('Confusion Matrix')\n",
    "print(pd.crosstab(validate.dtc_predicted, validate.actual))\n",
    "print('---')\n",
    "print(classification_report(validate.actual, validate.dtc_predicted))"
   ]
  },
  {
   "cell_type": "code",
   "execution_count": 18,
   "id": "4b759696",
   "metadata": {},
   "outputs": [
    {
     "name": "stdout",
     "output_type": "stream",
     "text": [
      "Random Forest Accuracy: 58.97%\n",
      "---\n",
      "Confusion Matrix\n",
      "actual        JavaScript  Python  TypeScript  not_top\n",
      "rf_predicted                                         \n",
      "JavaScript            17       8           3        3\n",
      "Python                 0       6           0        2\n",
      "---\n",
      "              precision    recall  f1-score   support\n",
      "\n",
      "  JavaScript       0.55      1.00      0.71        17\n",
      "      Python       0.75      0.43      0.55        14\n",
      "  TypeScript       0.00      0.00      0.00         3\n",
      "     not_top       0.00      0.00      0.00         5\n",
      "\n",
      "    accuracy                           0.59        39\n",
      "   macro avg       0.32      0.36      0.31        39\n",
      "weighted avg       0.51      0.59      0.50        39\n",
      "\n"
     ]
    }
   ],
   "source": [
    "print('Random Forest Accuracy: {:.2%}'.format(accuracy_score(validate.actual, validate.rf_predicted)))\n",
    "print('---')\n",
    "print('Confusion Matrix')\n",
    "print(pd.crosstab(validate.rf_predicted, validate.actual))\n",
    "print('---')\n",
    "print(classification_report(validate.actual, validate.rf_predicted))"
   ]
  },
  {
   "cell_type": "code",
   "execution_count": 19,
   "id": "e3758e30",
   "metadata": {},
   "outputs": [
    {
     "name": "stdout",
     "output_type": "stream",
     "text": [
      "KNN Accuracy: 69.23%\n",
      "---\n",
      "Confusion Matrix\n",
      "actual         JavaScript  Python  TypeScript  not_top\n",
      "knn_predicted                                         \n",
      "JavaScript             14       4           1        1\n",
      "Python                  2      10           1        1\n",
      "not_top                 1       0           1        3\n",
      "---\n",
      "              precision    recall  f1-score   support\n",
      "\n",
      "  JavaScript       0.70      0.82      0.76        17\n",
      "      Python       0.71      0.71      0.71        14\n",
      "  TypeScript       0.00      0.00      0.00         3\n",
      "     not_top       0.60      0.60      0.60         5\n",
      "\n",
      "    accuracy                           0.69        39\n",
      "   macro avg       0.50      0.53      0.52        39\n",
      "weighted avg       0.64      0.69      0.66        39\n",
      "\n"
     ]
    }
   ],
   "source": [
    "print('KNN Accuracy: {:.2%}'.format(accuracy_score(validate.actual, validate.knn_predicted)))\n",
    "print('---')\n",
    "print('Confusion Matrix')\n",
    "print(pd.crosstab(validate.knn_predicted, validate.actual))\n",
    "print('---')\n",
    "print(classification_report(validate.actual, validate.knn_predicted))"
   ]
  },
  {
   "cell_type": "code",
   "execution_count": 20,
   "id": "055ddd56",
   "metadata": {},
   "outputs": [],
   "source": [
    "# Assign the predicitons to the results df\n",
    "#test['lm_predicted'] = lm.predict(X_test)\n",
    "#test['dtc_predicted'] = dtc.predict(X_test)\n",
    "#test['rf_predicted'] = rf.predict(X_test)\n",
    "test['knn_predicted'] = knn.predict(X_test)"
   ]
  },
  {
   "cell_type": "code",
   "execution_count": 21,
   "id": "ad3da994",
   "metadata": {},
   "outputs": [],
   "source": [
    "model_list = [lm, dtc, rf, knn]\n",
    "\n",
    "model_names = ['LogisticRegression', 'DecisionTree', 'RandomForest', 'KNN']\n",
    "\n",
    "language_names = ['JavaScript', 'Python', 'TypeScript','not_top' ]"
   ]
  },
  {
   "cell_type": "code",
   "execution_count": 22,
   "id": "d96bd763",
   "metadata": {},
   "outputs": [],
   "source": [
    "def test_model(X_train, y_train, X_validate, y_validate, model, model_name, score_df):\n",
    "    '''\n",
    "    Function takes in X and y train\n",
    "    X and y validate (or test) \n",
    "    A model with it's hyper parameters\n",
    "    And a df to store the scores \n",
    "\n",
    "    - Set up an empty dataframe with score_df first\n",
    "    - score_df = pd.DataFrame(columns = ['model_name', 'train_score', 'validate_score', 'test_score'])\n",
    "    '''\n",
    "    this_model = model\n",
    "\n",
    "    this_model.fit(X_train, y_train)\n",
    "\n",
    "    # Check with Validate\n",
    "\n",
    "    train_score = this_model.score(X_train, y_train)\n",
    "    \n",
    "    validate_score = this_model.score(X_validate, y_validate)\n",
    "    \n",
    "    test_score = this_model.score(X_test, y_test)\n",
    "    \n",
    "    model_dict = {'model_name': model_name, \n",
    "                  'train_score':  round(train_score*100,2), \n",
    "                  'validate_score': round(validate_score*100,2),\n",
    "                  'test_score': round(test_score*100,2)}\n",
    "    score_df = score_df.append(model_dict, ignore_index = True)\n",
    "    \n",
    "    return score_df"
   ]
  },
  {
   "cell_type": "code",
   "execution_count": 23,
   "id": "956ef294",
   "metadata": {},
   "outputs": [],
   "source": [
    "#for model, name in zip(model_list, model_names):\n",
    "    #score_df = test_model(X_train, y_train, X_validate, y_validate, model, name, score_df)\n",
    "    \n",
    "    #(model, name, X_train, y_train, X_validate, y_validate, model_names)"
   ]
  },
  {
   "cell_type": "code",
   "execution_count": 24,
   "id": "1d905315",
   "metadata": {},
   "outputs": [],
   "source": [
    "#score_df.sort_values(by = 'validate_score', ascending = False)"
   ]
  },
  {
   "cell_type": "code",
   "execution_count": 25,
   "id": "8aa99da2",
   "metadata": {},
   "outputs": [],
   "source": [
    "def print_metrics(model, X, y, pred, language_names, set_name = 'This Set'):\n",
    "    '''\n",
    "    This function takes in a model, \n",
    "    X dataframe\n",
    "    y dataframe \n",
    "    predictions \n",
    "    Class_names (aka ['Java', 'Javascript', 'Jupyter Notebook', 'PHP'])\n",
    "    and a set name (aka train, validate or test)\n",
    "    Prints out a classification report \n",
    "    and confusion matrix as a heatmap\n",
    "    To customize colors change insdie the function\n",
    "\n",
    "    - IMPORTANT change lables inside this function\n",
    "    '''\n",
    "    \n",
    "    \n",
    "    print(model)\n",
    "    print(f\"{set_name} Scores\")\n",
    "    print('Accuracy Score: {:.2%}'.format(accuracy_score(y, pred)))\n",
    "    #print(round(accuracy_score*100,2)(y, pred))\n",
    "    print(classification_report(y, pred))\n",
    "    \n",
    "    #purple_cmap = sns.cubehelix_palette(as_cmap=True)\n",
    "    crest = sns.color_palette(\"crest\", as_cmap=True)\n",
    "    \n",
    "    with sns.axes_style(\"white\"):\n",
    "        matrix = plot_confusion_matrix(model,X, y, display_labels=language_names, cmap = crest)\n",
    "        plt.grid(False)\n",
    "        plt.show()\n",
    "        print()"
   ]
  },
  {
   "cell_type": "code",
   "execution_count": 26,
   "id": "d4337c0a",
   "metadata": {},
   "outputs": [],
   "source": [
    "def make_models_and_print_metrics(model, model_name, X_train, y_train, X_validate, y_validate, language_names):\n",
    "    '''\n",
    "    This function takes in a model object,\n",
    "    Name for the model (for vis purposes)\n",
    "    X_train, y_train\n",
    "    X_validate and y_validate\n",
    "    and the names of your classes (aka category names)\n",
    "    Uses print metrics function \n",
    "    '''\n",
    "    model.fit(X_train, y_train)\n",
    "\n",
    "    #predict for train and validate\n",
    "    train_pred = model.predict(X_train)\n",
    "    val_pred = model.predict(X_validate)\n",
    "    \n",
    "    #see metrics for train\n",
    "    print_metrics(model, X_train, y_train, train_pred, language_names, set_name='Train')\n",
    "    #print metrics for validate\n",
    "    print_metrics(model, X_validate, y_validate, val_pred, language_names, set_name='Validate')\n",
    "    print('-------------------------------------------------------------------\\n')"
   ]
  },
  {
   "cell_type": "code",
   "execution_count": 27,
   "id": "1dd682c8",
   "metadata": {},
   "outputs": [],
   "source": [
    "#creates a dataframe to store the scores by model\n",
    "#cols = ['train_score', 'validate_score', 'test_score']\n",
    "\n",
    "#mean = score_df[cols].mean()\n",
    "#data_mean = pd.DataFrame(data.mean(), columns=['mean_values'])\n",
    "#mean = scores_df.mean(axis=1)\n",
    "#create list of mean values\n",
    "#mean_lst = cols.mean().to_list\n",
    "\n",
    "score_df = pd.DataFrame(columns = ['model_name', 'train_score', 'validate_score', \n",
    "                                   'test_score'])"
   ]
  },
  {
   "cell_type": "code",
   "execution_count": 28,
   "id": "c397f96a",
   "metadata": {
    "scrolled": false
   },
   "outputs": [
    {
     "name": "stdout",
     "output_type": "stream",
     "text": [
      "LogisticRegression(multi_class='multinomial', random_state=123)\n",
      "Train Scores\n",
      "Accuracy Score: 82.02%\n",
      "              precision    recall  f1-score   support\n",
      "\n",
      "  JavaScript       0.72      1.00      0.84        38\n",
      "      Python       0.97      0.97      0.97        32\n",
      "  TypeScript       0.00      0.00      0.00         6\n",
      "     not_top       1.00      0.31      0.47        13\n",
      "\n",
      "    accuracy                           0.82        89\n",
      "   macro avg       0.67      0.57      0.57        89\n",
      "weighted avg       0.80      0.82      0.77        89\n",
      "\n"
     ]
    },
    {
     "data": {
      "image/png": "[encoded data removed]",
      "text/plain": [
       "<Figure size 432x288 with 2 Axes>"
      ]
     },
     "metadata": {
      "needs_background": "light"
     },
     "output_type": "display_data"
    },
    {
     "name": "stdout",
     "output_type": "stream",
     "text": [
      "\n",
      "LogisticRegression(multi_class='multinomial', random_state=123)\n",
      "Validate Scores\n",
      "Accuracy Score: 58.97%\n",
      "              precision    recall  f1-score   support\n",
      "\n",
      "  JavaScript       0.53      0.94      0.68        17\n",
      "      Python       0.78      0.50      0.61        14\n",
      "  TypeScript       0.00      0.00      0.00         3\n",
      "     not_top       0.00      0.00      0.00         5\n",
      "\n",
      "    accuracy                           0.59        39\n",
      "   macro avg       0.33      0.36      0.32        39\n",
      "weighted avg       0.51      0.59      0.52        39\n",
      "\n"
     ]
    },
    {
     "data": {
      "image/png": "[encoded data removed]",
      "text/plain": [
       "<Figure size 432x288 with 2 Axes>"
      ]
     },
     "metadata": {},
     "output_type": "display_data"
    },
    {
     "name": "stdout",
     "output_type": "stream",
     "text": [
      "\n",
      "-------------------------------------------------------------------\n",
      "\n",
      "DecisionTreeClassifier(max_depth=5, random_state=123)\n",
      "Train Scores\n",
      "Accuracy Score: 83.15%\n",
      "              precision    recall  f1-score   support\n",
      "\n",
      "  JavaScript       0.72      1.00      0.84        38\n",
      "      Python       1.00      0.75      0.86        32\n",
      "  TypeScript       1.00      0.50      0.67         6\n",
      "     not_top       1.00      0.69      0.82        13\n",
      "\n",
      "    accuracy                           0.83        89\n",
      "   macro avg       0.93      0.74      0.79        89\n",
      "weighted avg       0.88      0.83      0.83        89\n",
      "\n"
     ]
    },
    {
     "data": {
      "image/png": "[encoded data removed]",
      "text/plain": [
       "<Figure size 432x288 with 2 Axes>"
      ]
     },
     "metadata": {},
     "output_type": "display_data"
    },
    {
     "name": "stdout",
     "output_type": "stream",
     "text": [
      "\n",
      "DecisionTreeClassifier(max_depth=5, random_state=123)\n",
      "Validate Scores\n",
      "Accuracy Score: 56.41%\n",
      "              precision    recall  f1-score   support\n",
      "\n",
      "  JavaScript       0.57      0.94      0.71        17\n",
      "      Python       0.83      0.36      0.50        14\n",
      "  TypeScript       0.00      0.00      0.00         3\n",
      "     not_top       0.20      0.20      0.20         5\n",
      "\n",
      "    accuracy                           0.56        39\n",
      "   macro avg       0.40      0.37      0.35        39\n",
      "weighted avg       0.57      0.56      0.52        39\n",
      "\n"
     ]
    },
    {
     "data": {
      "image/png": "[encoded data removed]",
      "text/plain": [
       "<Figure size 432x288 with 2 Axes>"
      ]
     },
     "metadata": {},
     "output_type": "display_data"
    },
    {
     "name": "stdout",
     "output_type": "stream",
     "text": [
      "\n",
      "-------------------------------------------------------------------\n",
      "\n",
      "RandomForestClassifier(max_depth=5, min_samples_leaf=3, random_state=123)\n",
      "Train Scores\n",
      "Accuracy Score: 73.03%\n",
      "              precision    recall  f1-score   support\n",
      "\n",
      "  JavaScript       0.63      1.00      0.78        38\n",
      "      Python       0.92      0.75      0.83        32\n",
      "  TypeScript       1.00      0.17      0.29         6\n",
      "     not_top       1.00      0.15      0.27        13\n",
      "\n",
      "    accuracy                           0.73        89\n",
      "   macro avg       0.89      0.52      0.54        89\n",
      "weighted avg       0.82      0.73      0.69        89\n",
      "\n"
     ]
    },
    {
     "data": {
      "image/png": "[encoded data removed]",
      "text/plain": [
       "<Figure size 432x288 with 2 Axes>"
      ]
     },
     "metadata": {},
     "output_type": "display_data"
    },
    {
     "name": "stdout",
     "output_type": "stream",
     "text": [
      "\n",
      "RandomForestClassifier(max_depth=5, min_samples_leaf=3, random_state=123)\n",
      "Validate Scores\n",
      "Accuracy Score: 58.97%\n",
      "              precision    recall  f1-score   support\n",
      "\n",
      "  JavaScript       0.55      1.00      0.71        17\n",
      "      Python       0.75      0.43      0.55        14\n",
      "  TypeScript       0.00      0.00      0.00         3\n",
      "     not_top       0.00      0.00      0.00         5\n",
      "\n",
      "    accuracy                           0.59        39\n",
      "   macro avg       0.32      0.36      0.31        39\n",
      "weighted avg       0.51      0.59      0.50        39\n",
      "\n"
     ]
    },
    {
     "data": {
      "image/png": "[encoded data removed]",
      "text/plain": [
       "<Figure size 432x288 with 2 Axes>"
      ]
     },
     "metadata": {},
     "output_type": "display_data"
    },
    {
     "name": "stdout",
     "output_type": "stream",
     "text": [
      "\n",
      "-------------------------------------------------------------------\n",
      "\n",
      "KNeighborsClassifier()\n",
      "Train Scores\n",
      "Accuracy Score: 69.66%\n",
      "              precision    recall  f1-score   support\n",
      "\n",
      "  JavaScript       0.64      0.84      0.73        38\n",
      "      Python       0.79      0.69      0.73        32\n",
      "  TypeScript       0.60      0.50      0.55         6\n",
      "     not_top       0.83      0.38      0.53        13\n",
      "\n",
      "    accuracy                           0.70        89\n",
      "   macro avg       0.71      0.60      0.63        89\n",
      "weighted avg       0.72      0.70      0.69        89\n",
      "\n"
     ]
    },
    {
     "data": {
      "image/png": "[encoded data removed]",
      "text/plain": [
       "<Figure size 432x288 with 2 Axes>"
      ]
     },
     "metadata": {},
     "output_type": "display_data"
    },
    {
     "name": "stdout",
     "output_type": "stream",
     "text": [
      "\n",
      "KNeighborsClassifier()\n",
      "Validate Scores\n",
      "Accuracy Score: 69.23%\n",
      "              precision    recall  f1-score   support\n",
      "\n",
      "  JavaScript       0.70      0.82      0.76        17\n",
      "      Python       0.71      0.71      0.71        14\n",
      "  TypeScript       0.00      0.00      0.00         3\n",
      "     not_top       0.60      0.60      0.60         5\n",
      "\n",
      "    accuracy                           0.69        39\n",
      "   macro avg       0.50      0.53      0.52        39\n",
      "weighted avg       0.64      0.69      0.66        39\n",
      "\n"
     ]
    },
    {
     "data": {
      "image/png": "[encoded data removed]",
      "text/plain": [
       "<Figure size 432x288 with 2 Axes>"
      ]
     },
     "metadata": {},
     "output_type": "display_data"
    },
    {
     "name": "stdout",
     "output_type": "stream",
     "text": [
      "\n",
      "-------------------------------------------------------------------\n",
      "\n"
     ]
    }
   ],
   "source": [
    "# takes the model name and shows confusion matrix and classification report\n",
    "for model, name in zip(model_list, model_names):\n",
    "    score_df = test_model(X_train, y_train, X_validate, y_validate, model, name, score_df)\n",
    "    \n",
    "    make_models_and_print_metrics(model, model_names, X_train, y_train, X_validate, y_validate, language_names)"
   ]
  },
  {
   "cell_type": "code",
   "execution_count": 29,
   "id": "6a6b8095",
   "metadata": {},
   "outputs": [
    {
     "data": {
      "text/html": [
       "<div>\n",
       "<style scoped>\n",
       "    .dataframe tbody tr th:only-of-type {\n",
       "        vertical-align: middle;\n",
       "    }\n",
       "\n",
       "    .dataframe tbody tr th {\n",
       "        vertical-align: top;\n",
       "    }\n",
       "\n",
       "    .dataframe thead th {\n",
       "        text-align: right;\n",
       "    }\n",
       "</style>\n",
       "<table border=\"1\" class=\"dataframe\">\n",
       "  <thead>\n",
       "    <tr style=\"text-align: right;\">\n",
       "      <th></th>\n",
       "      <th>model_name</th>\n",
       "      <th>train_score</th>\n",
       "      <th>validate_score</th>\n",
       "      <th>test_score</th>\n",
       "    </tr>\n",
       "  </thead>\n",
       "  <tbody>\n",
       "    <tr>\n",
       "      <th>1</th>\n",
       "      <td>DecisionTree</td>\n",
       "      <td>83.15</td>\n",
       "      <td>56.41</td>\n",
       "      <td>56.25</td>\n",
       "    </tr>\n",
       "    <tr>\n",
       "      <th>3</th>\n",
       "      <td>KNN</td>\n",
       "      <td>69.66</td>\n",
       "      <td>69.23</td>\n",
       "      <td>56.25</td>\n",
       "    </tr>\n",
       "    <tr>\n",
       "      <th>2</th>\n",
       "      <td>RandomForest</td>\n",
       "      <td>73.03</td>\n",
       "      <td>58.97</td>\n",
       "      <td>53.12</td>\n",
       "    </tr>\n",
       "    <tr>\n",
       "      <th>0</th>\n",
       "      <td>LogisticRegression</td>\n",
       "      <td>82.02</td>\n",
       "      <td>58.97</td>\n",
       "      <td>50.00</td>\n",
       "    </tr>\n",
       "  </tbody>\n",
       "</table>\n",
       "</div>"
      ],
      "text/plain": [
       "           model_name  train_score  validate_score  test_score\n",
       "1        DecisionTree        83.15           56.41       56.25\n",
       "3                 KNN        69.66           69.23       56.25\n",
       "2        RandomForest        73.03           58.97       53.12\n",
       "0  LogisticRegression        82.02           58.97       50.00"
      ]
     },
     "execution_count": 29,
     "metadata": {},
     "output_type": "execute_result"
    }
   ],
   "source": [
    "score_df.sort_values(by = 'test_score', ascending = False)"
   ]
  },
  {
   "cell_type": "code",
   "execution_count": 30,
   "id": "9e761ee9",
   "metadata": {},
   "outputs": [
    {
     "data": {
      "text/plain": [
       "train_score       76.965\n",
       "validate_score    60.895\n",
       "test_score        53.905\n",
       "dtype: float64"
      ]
     },
     "execution_count": 30,
     "metadata": {},
     "output_type": "execute_result"
    }
   ],
   "source": [
    "cols = ['train_score', 'validate_score', 'test_score']\n",
    "\n",
    "score_df[cols].mean()"
   ]
  },
  {
   "cell_type": "code",
   "execution_count": 31,
   "id": "64044d9b",
   "metadata": {},
   "outputs": [
    {
     "data": {
      "text/html": [
       "<div>\n",
       "<style scoped>\n",
       "    .dataframe tbody tr th:only-of-type {\n",
       "        vertical-align: middle;\n",
       "    }\n",
       "\n",
       "    .dataframe tbody tr th {\n",
       "        vertical-align: top;\n",
       "    }\n",
       "\n",
       "    .dataframe thead th {\n",
       "        text-align: right;\n",
       "    }\n",
       "</style>\n",
       "<table border=\"1\" class=\"dataframe\">\n",
       "  <thead>\n",
       "    <tr style=\"text-align: right;\">\n",
       "      <th></th>\n",
       "      <th>model_name</th>\n",
       "      <th>train_score</th>\n",
       "      <th>validate_score</th>\n",
       "      <th>test_score</th>\n",
       "      <th>mean</th>\n",
       "    </tr>\n",
       "  </thead>\n",
       "  <tbody>\n",
       "    <tr>\n",
       "      <th>0</th>\n",
       "      <td>LogisticRegression</td>\n",
       "      <td>82.02</td>\n",
       "      <td>58.97</td>\n",
       "      <td>50.00</td>\n",
       "      <td>63.66</td>\n",
       "    </tr>\n",
       "    <tr>\n",
       "      <th>1</th>\n",
       "      <td>DecisionTree</td>\n",
       "      <td>83.15</td>\n",
       "      <td>56.41</td>\n",
       "      <td>56.25</td>\n",
       "      <td>65.27</td>\n",
       "    </tr>\n",
       "    <tr>\n",
       "      <th>2</th>\n",
       "      <td>RandomForest</td>\n",
       "      <td>73.03</td>\n",
       "      <td>58.97</td>\n",
       "      <td>53.12</td>\n",
       "      <td>61.71</td>\n",
       "    </tr>\n",
       "    <tr>\n",
       "      <th>3</th>\n",
       "      <td>KNN</td>\n",
       "      <td>69.66</td>\n",
       "      <td>69.23</td>\n",
       "      <td>56.25</td>\n",
       "      <td>65.05</td>\n",
       "    </tr>\n",
       "  </tbody>\n",
       "</table>\n",
       "</div>"
      ],
      "text/plain": [
       "           model_name  train_score  validate_score  test_score   mean\n",
       "0  LogisticRegression        82.02           58.97       50.00  63.66\n",
       "1        DecisionTree        83.15           56.41       56.25  65.27\n",
       "2        RandomForest        73.03           58.97       53.12  61.71\n",
       "3                 KNN        69.66           69.23       56.25  65.05"
      ]
     },
     "execution_count": 31,
     "metadata": {},
     "output_type": "execute_result"
    }
   ],
   "source": [
    "score_df['mean'] = round(score_df.mean(numeric_only=True, axis=1),2)\n",
    "score_df"
   ]
  },
  {
   "cell_type": "code",
   "execution_count": 32,
   "id": "99295a8b",
   "metadata": {},
   "outputs": [
    {
     "data": {
      "text/html": [
       "<div>\n",
       "<style scoped>\n",
       "    .dataframe tbody tr th:only-of-type {\n",
       "        vertical-align: middle;\n",
       "    }\n",
       "\n",
       "    .dataframe tbody tr th {\n",
       "        vertical-align: top;\n",
       "    }\n",
       "\n",
       "    .dataframe thead th {\n",
       "        text-align: right;\n",
       "    }\n",
       "</style>\n",
       "<table border=\"1\" class=\"dataframe\">\n",
       "  <thead>\n",
       "    <tr style=\"text-align: right;\">\n",
       "      <th></th>\n",
       "      <th>actual</th>\n",
       "      <th>lm_predicted</th>\n",
       "      <th>dtc_predicted</th>\n",
       "      <th>rf_predicted</th>\n",
       "      <th>knn_predicted</th>\n",
       "    </tr>\n",
       "  </thead>\n",
       "  <tbody>\n",
       "    <tr>\n",
       "      <th>120</th>\n",
       "      <td>Python</td>\n",
       "      <td>Python</td>\n",
       "      <td>Python</td>\n",
       "      <td>Python</td>\n",
       "      <td>Python</td>\n",
       "    </tr>\n",
       "    <tr>\n",
       "      <th>72</th>\n",
       "      <td>JavaScript</td>\n",
       "      <td>JavaScript</td>\n",
       "      <td>JavaScript</td>\n",
       "      <td>JavaScript</td>\n",
       "      <td>JavaScript</td>\n",
       "    </tr>\n",
       "    <tr>\n",
       "      <th>44</th>\n",
       "      <td>JavaScript</td>\n",
       "      <td>JavaScript</td>\n",
       "      <td>JavaScript</td>\n",
       "      <td>JavaScript</td>\n",
       "      <td>JavaScript</td>\n",
       "    </tr>\n",
       "    <tr>\n",
       "      <th>191</th>\n",
       "      <td>not_top</td>\n",
       "      <td>not_top</td>\n",
       "      <td>JavaScript</td>\n",
       "      <td>JavaScript</td>\n",
       "      <td>not_top</td>\n",
       "    </tr>\n",
       "    <tr>\n",
       "      <th>19</th>\n",
       "      <td>Python</td>\n",
       "      <td>Python</td>\n",
       "      <td>JavaScript</td>\n",
       "      <td>JavaScript</td>\n",
       "      <td>JavaScript</td>\n",
       "    </tr>\n",
       "    <tr>\n",
       "      <th>...</th>\n",
       "      <td>...</td>\n",
       "      <td>...</td>\n",
       "      <td>...</td>\n",
       "      <td>...</td>\n",
       "      <td>...</td>\n",
       "    </tr>\n",
       "    <tr>\n",
       "      <th>179</th>\n",
       "      <td>JavaScript</td>\n",
       "      <td>JavaScript</td>\n",
       "      <td>JavaScript</td>\n",
       "      <td>JavaScript</td>\n",
       "      <td>JavaScript</td>\n",
       "    </tr>\n",
       "    <tr>\n",
       "      <th>114</th>\n",
       "      <td>Python</td>\n",
       "      <td>Python</td>\n",
       "      <td>Python</td>\n",
       "      <td>Python</td>\n",
       "      <td>Python</td>\n",
       "    </tr>\n",
       "    <tr>\n",
       "      <th>198</th>\n",
       "      <td>Python</td>\n",
       "      <td>Python</td>\n",
       "      <td>Python</td>\n",
       "      <td>JavaScript</td>\n",
       "      <td>Python</td>\n",
       "    </tr>\n",
       "    <tr>\n",
       "      <th>113</th>\n",
       "      <td>Python</td>\n",
       "      <td>Python</td>\n",
       "      <td>Python</td>\n",
       "      <td>Python</td>\n",
       "      <td>JavaScript</td>\n",
       "    </tr>\n",
       "    <tr>\n",
       "      <th>82</th>\n",
       "      <td>not_top</td>\n",
       "      <td>JavaScript</td>\n",
       "      <td>JavaScript</td>\n",
       "      <td>JavaScript</td>\n",
       "      <td>TypeScript</td>\n",
       "    </tr>\n",
       "  </tbody>\n",
       "</table>\n",
       "<p>89 rows × 5 columns</p>\n",
       "</div>"
      ],
      "text/plain": [
       "         actual lm_predicted dtc_predicted rf_predicted knn_predicted\n",
       "120      Python       Python        Python       Python        Python\n",
       "72   JavaScript   JavaScript    JavaScript   JavaScript    JavaScript\n",
       "44   JavaScript   JavaScript    JavaScript   JavaScript    JavaScript\n",
       "191     not_top      not_top    JavaScript   JavaScript       not_top\n",
       "19       Python       Python    JavaScript   JavaScript    JavaScript\n",
       "..          ...          ...           ...          ...           ...\n",
       "179  JavaScript   JavaScript    JavaScript   JavaScript    JavaScript\n",
       "114      Python       Python        Python       Python        Python\n",
       "198      Python       Python        Python   JavaScript        Python\n",
       "113      Python       Python        Python       Python    JavaScript\n",
       "82      not_top   JavaScript    JavaScript   JavaScript    TypeScript\n",
       "\n",
       "[89 rows x 5 columns]"
      ]
     },
     "execution_count": 32,
     "metadata": {},
     "output_type": "execute_result"
    }
   ],
   "source": [
    "train"
   ]
  },
  {
   "cell_type": "code",
   "execution_count": 33,
   "id": "3861ecaf",
   "metadata": {},
   "outputs": [
    {
     "data": {
      "text/html": [
       "<div>\n",
       "<style scoped>\n",
       "    .dataframe tbody tr th:only-of-type {\n",
       "        vertical-align: middle;\n",
       "    }\n",
       "\n",
       "    .dataframe tbody tr th {\n",
       "        vertical-align: top;\n",
       "    }\n",
       "\n",
       "    .dataframe thead th {\n",
       "        text-align: right;\n",
       "    }\n",
       "</style>\n",
       "<table border=\"1\" class=\"dataframe\">\n",
       "  <thead>\n",
       "    <tr style=\"text-align: right;\">\n",
       "      <th></th>\n",
       "      <th>actual</th>\n",
       "      <th>lm_predicted</th>\n",
       "      <th>dtc_predicted</th>\n",
       "      <th>rf_predicted</th>\n",
       "      <th>knn_predicted</th>\n",
       "    </tr>\n",
       "  </thead>\n",
       "  <tbody>\n",
       "    <tr>\n",
       "      <th>73</th>\n",
       "      <td>JavaScript</td>\n",
       "      <td>JavaScript</td>\n",
       "      <td>JavaScript</td>\n",
       "      <td>JavaScript</td>\n",
       "      <td>Python</td>\n",
       "    </tr>\n",
       "    <tr>\n",
       "      <th>171</th>\n",
       "      <td>Python</td>\n",
       "      <td>Python</td>\n",
       "      <td>not_top</td>\n",
       "      <td>Python</td>\n",
       "      <td>Python</td>\n",
       "    </tr>\n",
       "    <tr>\n",
       "      <th>169</th>\n",
       "      <td>JavaScript</td>\n",
       "      <td>JavaScript</td>\n",
       "      <td>not_top</td>\n",
       "      <td>JavaScript</td>\n",
       "      <td>JavaScript</td>\n",
       "    </tr>\n",
       "    <tr>\n",
       "      <th>48</th>\n",
       "      <td>Python</td>\n",
       "      <td>JavaScript</td>\n",
       "      <td>JavaScript</td>\n",
       "      <td>JavaScript</td>\n",
       "      <td>JavaScript</td>\n",
       "    </tr>\n",
       "    <tr>\n",
       "      <th>13</th>\n",
       "      <td>JavaScript</td>\n",
       "      <td>JavaScript</td>\n",
       "      <td>JavaScript</td>\n",
       "      <td>JavaScript</td>\n",
       "      <td>not_top</td>\n",
       "    </tr>\n",
       "    <tr>\n",
       "      <th>50</th>\n",
       "      <td>Python</td>\n",
       "      <td>JavaScript</td>\n",
       "      <td>not_top</td>\n",
       "      <td>JavaScript</td>\n",
       "      <td>JavaScript</td>\n",
       "    </tr>\n",
       "    <tr>\n",
       "      <th>42</th>\n",
       "      <td>JavaScript</td>\n",
       "      <td>JavaScript</td>\n",
       "      <td>JavaScript</td>\n",
       "      <td>JavaScript</td>\n",
       "      <td>JavaScript</td>\n",
       "    </tr>\n",
       "    <tr>\n",
       "      <th>107</th>\n",
       "      <td>JavaScript</td>\n",
       "      <td>JavaScript</td>\n",
       "      <td>JavaScript</td>\n",
       "      <td>JavaScript</td>\n",
       "      <td>JavaScript</td>\n",
       "    </tr>\n",
       "    <tr>\n",
       "      <th>138</th>\n",
       "      <td>JavaScript</td>\n",
       "      <td>JavaScript</td>\n",
       "      <td>JavaScript</td>\n",
       "      <td>JavaScript</td>\n",
       "      <td>JavaScript</td>\n",
       "    </tr>\n",
       "    <tr>\n",
       "      <th>153</th>\n",
       "      <td>not_top</td>\n",
       "      <td>JavaScript</td>\n",
       "      <td>JavaScript</td>\n",
       "      <td>JavaScript</td>\n",
       "      <td>not_top</td>\n",
       "    </tr>\n",
       "    <tr>\n",
       "      <th>105</th>\n",
       "      <td>JavaScript</td>\n",
       "      <td>JavaScript</td>\n",
       "      <td>JavaScript</td>\n",
       "      <td>JavaScript</td>\n",
       "      <td>JavaScript</td>\n",
       "    </tr>\n",
       "    <tr>\n",
       "      <th>133</th>\n",
       "      <td>Python</td>\n",
       "      <td>Python</td>\n",
       "      <td>Python</td>\n",
       "      <td>Python</td>\n",
       "      <td>Python</td>\n",
       "    </tr>\n",
       "    <tr>\n",
       "      <th>54</th>\n",
       "      <td>not_top</td>\n",
       "      <td>JavaScript</td>\n",
       "      <td>JavaScript</td>\n",
       "      <td>JavaScript</td>\n",
       "      <td>not_top</td>\n",
       "    </tr>\n",
       "    <tr>\n",
       "      <th>86</th>\n",
       "      <td>Python</td>\n",
       "      <td>JavaScript</td>\n",
       "      <td>Python</td>\n",
       "      <td>Python</td>\n",
       "      <td>JavaScript</td>\n",
       "    </tr>\n",
       "    <tr>\n",
       "      <th>119</th>\n",
       "      <td>not_top</td>\n",
       "      <td>JavaScript</td>\n",
       "      <td>JavaScript</td>\n",
       "      <td>JavaScript</td>\n",
       "      <td>not_top</td>\n",
       "    </tr>\n",
       "    <tr>\n",
       "      <th>142</th>\n",
       "      <td>JavaScript</td>\n",
       "      <td>JavaScript</td>\n",
       "      <td>JavaScript</td>\n",
       "      <td>JavaScript</td>\n",
       "      <td>JavaScript</td>\n",
       "    </tr>\n",
       "    <tr>\n",
       "      <th>75</th>\n",
       "      <td>not_top</td>\n",
       "      <td>Python</td>\n",
       "      <td>JavaScript</td>\n",
       "      <td>Python</td>\n",
       "      <td>Python</td>\n",
       "    </tr>\n",
       "    <tr>\n",
       "      <th>16</th>\n",
       "      <td>TypeScript</td>\n",
       "      <td>JavaScript</td>\n",
       "      <td>Python</td>\n",
       "      <td>JavaScript</td>\n",
       "      <td>Python</td>\n",
       "    </tr>\n",
       "    <tr>\n",
       "      <th>88</th>\n",
       "      <td>JavaScript</td>\n",
       "      <td>JavaScript</td>\n",
       "      <td>JavaScript</td>\n",
       "      <td>JavaScript</td>\n",
       "      <td>JavaScript</td>\n",
       "    </tr>\n",
       "    <tr>\n",
       "      <th>22</th>\n",
       "      <td>JavaScript</td>\n",
       "      <td>JavaScript</td>\n",
       "      <td>JavaScript</td>\n",
       "      <td>JavaScript</td>\n",
       "      <td>JavaScript</td>\n",
       "    </tr>\n",
       "    <tr>\n",
       "      <th>112</th>\n",
       "      <td>TypeScript</td>\n",
       "      <td>JavaScript</td>\n",
       "      <td>JavaScript</td>\n",
       "      <td>JavaScript</td>\n",
       "      <td>JavaScript</td>\n",
       "    </tr>\n",
       "    <tr>\n",
       "      <th>141</th>\n",
       "      <td>Python</td>\n",
       "      <td>Python</td>\n",
       "      <td>Python</td>\n",
       "      <td>Python</td>\n",
       "      <td>Python</td>\n",
       "    </tr>\n",
       "    <tr>\n",
       "      <th>174</th>\n",
       "      <td>Python</td>\n",
       "      <td>JavaScript</td>\n",
       "      <td>JavaScript</td>\n",
       "      <td>JavaScript</td>\n",
       "      <td>Python</td>\n",
       "    </tr>\n",
       "    <tr>\n",
       "      <th>155</th>\n",
       "      <td>Python</td>\n",
       "      <td>Python</td>\n",
       "      <td>JavaScript</td>\n",
       "      <td>Python</td>\n",
       "      <td>Python</td>\n",
       "    </tr>\n",
       "    <tr>\n",
       "      <th>154</th>\n",
       "      <td>Python</td>\n",
       "      <td>Python</td>\n",
       "      <td>JavaScript</td>\n",
       "      <td>JavaScript</td>\n",
       "      <td>Python</td>\n",
       "    </tr>\n",
       "    <tr>\n",
       "      <th>55</th>\n",
       "      <td>JavaScript</td>\n",
       "      <td>Python</td>\n",
       "      <td>JavaScript</td>\n",
       "      <td>JavaScript</td>\n",
       "      <td>Python</td>\n",
       "    </tr>\n",
       "    <tr>\n",
       "      <th>18</th>\n",
       "      <td>JavaScript</td>\n",
       "      <td>JavaScript</td>\n",
       "      <td>JavaScript</td>\n",
       "      <td>JavaScript</td>\n",
       "      <td>JavaScript</td>\n",
       "    </tr>\n",
       "    <tr>\n",
       "      <th>15</th>\n",
       "      <td>JavaScript</td>\n",
       "      <td>JavaScript</td>\n",
       "      <td>JavaScript</td>\n",
       "      <td>JavaScript</td>\n",
       "      <td>JavaScript</td>\n",
       "    </tr>\n",
       "    <tr>\n",
       "      <th>40</th>\n",
       "      <td>Python</td>\n",
       "      <td>JavaScript</td>\n",
       "      <td>JavaScript</td>\n",
       "      <td>JavaScript</td>\n",
       "      <td>JavaScript</td>\n",
       "    </tr>\n",
       "    <tr>\n",
       "      <th>124</th>\n",
       "      <td>Python</td>\n",
       "      <td>Python</td>\n",
       "      <td>JavaScript</td>\n",
       "      <td>JavaScript</td>\n",
       "      <td>Python</td>\n",
       "    </tr>\n",
       "    <tr>\n",
       "      <th>11</th>\n",
       "      <td>JavaScript</td>\n",
       "      <td>JavaScript</td>\n",
       "      <td>JavaScript</td>\n",
       "      <td>JavaScript</td>\n",
       "      <td>JavaScript</td>\n",
       "    </tr>\n",
       "    <tr>\n",
       "      <th>10</th>\n",
       "      <td>not_top</td>\n",
       "      <td>JavaScript</td>\n",
       "      <td>not_top</td>\n",
       "      <td>Python</td>\n",
       "      <td>JavaScript</td>\n",
       "    </tr>\n",
       "    <tr>\n",
       "      <th>140</th>\n",
       "      <td>TypeScript</td>\n",
       "      <td>JavaScript</td>\n",
       "      <td>not_top</td>\n",
       "      <td>JavaScript</td>\n",
       "      <td>not_top</td>\n",
       "    </tr>\n",
       "    <tr>\n",
       "      <th>108</th>\n",
       "      <td>JavaScript</td>\n",
       "      <td>JavaScript</td>\n",
       "      <td>JavaScript</td>\n",
       "      <td>JavaScript</td>\n",
       "      <td>JavaScript</td>\n",
       "    </tr>\n",
       "    <tr>\n",
       "      <th>192</th>\n",
       "      <td>JavaScript</td>\n",
       "      <td>JavaScript</td>\n",
       "      <td>JavaScript</td>\n",
       "      <td>JavaScript</td>\n",
       "      <td>JavaScript</td>\n",
       "    </tr>\n",
       "    <tr>\n",
       "      <th>156</th>\n",
       "      <td>JavaScript</td>\n",
       "      <td>JavaScript</td>\n",
       "      <td>JavaScript</td>\n",
       "      <td>JavaScript</td>\n",
       "      <td>JavaScript</td>\n",
       "    </tr>\n",
       "    <tr>\n",
       "      <th>197</th>\n",
       "      <td>Python</td>\n",
       "      <td>JavaScript</td>\n",
       "      <td>JavaScript</td>\n",
       "      <td>JavaScript</td>\n",
       "      <td>Python</td>\n",
       "    </tr>\n",
       "    <tr>\n",
       "      <th>23</th>\n",
       "      <td>Python</td>\n",
       "      <td>JavaScript</td>\n",
       "      <td>Python</td>\n",
       "      <td>JavaScript</td>\n",
       "      <td>Python</td>\n",
       "    </tr>\n",
       "    <tr>\n",
       "      <th>1</th>\n",
       "      <td>Python</td>\n",
       "      <td>Python</td>\n",
       "      <td>Python</td>\n",
       "      <td>Python</td>\n",
       "      <td>Python</td>\n",
       "    </tr>\n",
       "  </tbody>\n",
       "</table>\n",
       "</div>"
      ],
      "text/plain": [
       "         actual lm_predicted dtc_predicted rf_predicted knn_predicted\n",
       "73   JavaScript   JavaScript    JavaScript   JavaScript        Python\n",
       "171      Python       Python       not_top       Python        Python\n",
       "169  JavaScript   JavaScript       not_top   JavaScript    JavaScript\n",
       "48       Python   JavaScript    JavaScript   JavaScript    JavaScript\n",
       "13   JavaScript   JavaScript    JavaScript   JavaScript       not_top\n",
       "50       Python   JavaScript       not_top   JavaScript    JavaScript\n",
       "42   JavaScript   JavaScript    JavaScript   JavaScript    JavaScript\n",
       "107  JavaScript   JavaScript    JavaScript   JavaScript    JavaScript\n",
       "138  JavaScript   JavaScript    JavaScript   JavaScript    JavaScript\n",
       "153     not_top   JavaScript    JavaScript   JavaScript       not_top\n",
       "105  JavaScript   JavaScript    JavaScript   JavaScript    JavaScript\n",
       "133      Python       Python        Python       Python        Python\n",
       "54      not_top   JavaScript    JavaScript   JavaScript       not_top\n",
       "86       Python   JavaScript        Python       Python    JavaScript\n",
       "119     not_top   JavaScript    JavaScript   JavaScript       not_top\n",
       "142  JavaScript   JavaScript    JavaScript   JavaScript    JavaScript\n",
       "75      not_top       Python    JavaScript       Python        Python\n",
       "16   TypeScript   JavaScript        Python   JavaScript        Python\n",
       "88   JavaScript   JavaScript    JavaScript   JavaScript    JavaScript\n",
       "22   JavaScript   JavaScript    JavaScript   JavaScript    JavaScript\n",
       "112  TypeScript   JavaScript    JavaScript   JavaScript    JavaScript\n",
       "141      Python       Python        Python       Python        Python\n",
       "174      Python   JavaScript    JavaScript   JavaScript        Python\n",
       "155      Python       Python    JavaScript       Python        Python\n",
       "154      Python       Python    JavaScript   JavaScript        Python\n",
       "55   JavaScript       Python    JavaScript   JavaScript        Python\n",
       "18   JavaScript   JavaScript    JavaScript   JavaScript    JavaScript\n",
       "15   JavaScript   JavaScript    JavaScript   JavaScript    JavaScript\n",
       "40       Python   JavaScript    JavaScript   JavaScript    JavaScript\n",
       "124      Python       Python    JavaScript   JavaScript        Python\n",
       "11   JavaScript   JavaScript    JavaScript   JavaScript    JavaScript\n",
       "10      not_top   JavaScript       not_top       Python    JavaScript\n",
       "140  TypeScript   JavaScript       not_top   JavaScript       not_top\n",
       "108  JavaScript   JavaScript    JavaScript   JavaScript    JavaScript\n",
       "192  JavaScript   JavaScript    JavaScript   JavaScript    JavaScript\n",
       "156  JavaScript   JavaScript    JavaScript   JavaScript    JavaScript\n",
       "197      Python   JavaScript    JavaScript   JavaScript        Python\n",
       "23       Python   JavaScript        Python   JavaScript        Python\n",
       "1        Python       Python        Python       Python        Python"
      ]
     },
     "execution_count": 33,
     "metadata": {},
     "output_type": "execute_result"
    }
   ],
   "source": [
    "validate"
   ]
  },
  {
   "cell_type": "code",
   "execution_count": 35,
   "id": "c3be821f",
   "metadata": {},
   "outputs": [
    {
     "data": {
      "text/html": [
       "<div>\n",
       "<style scoped>\n",
       "    .dataframe tbody tr th:only-of-type {\n",
       "        vertical-align: middle;\n",
       "    }\n",
       "\n",
       "    .dataframe tbody tr th {\n",
       "        vertical-align: top;\n",
       "    }\n",
       "\n",
       "    .dataframe thead th {\n",
       "        text-align: right;\n",
       "    }\n",
       "</style>\n",
       "<table border=\"1\" class=\"dataframe\">\n",
       "  <thead>\n",
       "    <tr style=\"text-align: right;\">\n",
       "      <th></th>\n",
       "      <th>actual</th>\n",
       "      <th>knn_predicted</th>\n",
       "    </tr>\n",
       "  </thead>\n",
       "  <tbody>\n",
       "    <tr>\n",
       "      <th>168</th>\n",
       "      <td>Python</td>\n",
       "      <td>Python</td>\n",
       "    </tr>\n",
       "    <tr>\n",
       "      <th>41</th>\n",
       "      <td>JavaScript</td>\n",
       "      <td>JavaScript</td>\n",
       "    </tr>\n",
       "    <tr>\n",
       "      <th>182</th>\n",
       "      <td>JavaScript</td>\n",
       "      <td>JavaScript</td>\n",
       "    </tr>\n",
       "    <tr>\n",
       "      <th>96</th>\n",
       "      <td>Python</td>\n",
       "      <td>Python</td>\n",
       "    </tr>\n",
       "    <tr>\n",
       "      <th>181</th>\n",
       "      <td>Python</td>\n",
       "      <td>Python</td>\n",
       "    </tr>\n",
       "  </tbody>\n",
       "</table>\n",
       "</div>"
      ],
      "text/plain": [
       "         actual knn_predicted\n",
       "168      Python        Python\n",
       "41   JavaScript    JavaScript\n",
       "182  JavaScript    JavaScript\n",
       "96       Python        Python\n",
       "181      Python        Python"
      ]
     },
     "execution_count": 35,
     "metadata": {},
     "output_type": "execute_result"
    }
   ],
   "source": [
    "test.head()"
   ]
  },
  {
   "cell_type": "code",
   "execution_count": 36,
   "id": "6dcf1fbf",
   "metadata": {},
   "outputs": [
    {
     "name": "stdout",
     "output_type": "stream",
     "text": [
      "KNN Accuracy: 56.25%\n",
      "---\n",
      "Confusion Matrix\n",
      "actual         JavaScript  Python  TypeScript  not_top\n",
      "knn_predicted                                         \n",
      "JavaScript             11       5           1        3\n",
      "Python                  2       7           1        2\n",
      "---\n",
      "              precision    recall  f1-score   support\n",
      "\n",
      "  JavaScript       0.55      0.85      0.67        13\n",
      "      Python       0.58      0.58      0.58        12\n",
      "  TypeScript       0.00      0.00      0.00         2\n",
      "     not_top       0.00      0.00      0.00         5\n",
      "\n",
      "    accuracy                           0.56        32\n",
      "   macro avg       0.28      0.36      0.31        32\n",
      "weighted avg       0.44      0.56      0.49        32\n",
      "\n"
     ]
    }
   ],
   "source": [
    "print('KNN Accuracy: {:.2%}'.format(accuracy_score(test.actual, test.knn_predicted)))\n",
    "print('---')\n",
    "print('Confusion Matrix')\n",
    "print(pd.crosstab(test.knn_predicted, test.actual))\n",
    "print('---')\n",
    "print(classification_report(test.actual, test.knn_predicted))"
   ]
  },
  {
   "cell_type": "code",
   "execution_count": null,
   "id": "be09b610",
   "metadata": {},
   "outputs": [],
   "source": []
  }
 ],
 "metadata": {
  "kernelspec": {
   "display_name": "Python 3 (ipykernel)",
   "language": "python",
   "name": "python3"
  },
  "language_info": {
   "codemirror_mode": {
    "name": "ipython",
    "version": 3
   },
   "file_extension": ".py",
   "mimetype": "text/x-python",
   "name": "python",
   "nbconvert_exporter": "python",
   "pygments_lexer": "ipython3",
   "version": "3.9.7"
  }
 },
 "nbformat": 4,
 "nbformat_minor": 5
}
