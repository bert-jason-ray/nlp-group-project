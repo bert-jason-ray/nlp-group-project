{
 "cells": [
  {
   "cell_type": "code",
   "execution_count": 1,
   "id": "81f21d94",
   "metadata": {},
   "outputs": [
    {
     "name": "stderr",
     "output_type": "stream",
     "text": [
      "<frozen importlib._bootstrap>:228: RuntimeWarning: scipy._lib.messagestream.MessageStream size changed, may indicate binary incompatibility. Expected 56 from C header, got 64 from PyObject\n"
     ]
    }
   ],
   "source": [
    "import os\n",
    "import json\n",
    "from typing import Dict, List, Optional, Union, cast\n",
    "import requests\n",
    "import pandas as pd\n",
    "from env import github_token, github_username\n",
    "\n",
    "import prepare\n",
    "import acquire\n",
    "#import explore\n",
    "#from explore import percentage_stacked_plot\n",
    "#import model\n",
    "from acquire import scrape_github_data\n",
    "from acquire import get_github_data\n",
    "import unicodedata\n",
    "import re\n",
    "import json\n",
    "import pandas as pd\n",
    "import numpy as np\n",
    "from matplotlib.colors import LinearSegmentedColormap\n",
    "import nltk\n",
    "from nltk.tokenize.toktok import ToktokTokenizer\n",
    "from nltk.corpus import stopwords\n",
    "from wordcloud import WordCloud\n",
    "from collections import Counter\n",
    "\n",
    "\n",
    "from sklearn.model_selection import train_test_split\n",
    "from sklearn.linear_model import LogisticRegression\n",
    "from sklearn.metrics import classification_report, accuracy_score\n",
    "from sklearn.feature_extraction.text import TfidfVectorizer\n",
    "from sklearn.neighbors import KNeighborsClassifier\n",
    "from sklearn.metrics import confusion_matrix\n",
    "from sklearn.ensemble import RandomForestClassifier\n",
    "from sklearn.tree import DecisionTreeClassifier\n",
    "\n",
    "import matplotlib.pyplot as plt\n",
    "import seaborn as sns\n",
    "\n",
    "import warnings\n",
    "warnings.filter=\"ignore\"\n",
    "\n",
    "from bs4 import BeautifulSoup\n",
    "\n"
   ]
  },
  {
   "cell_type": "code",
   "execution_count": 2,
   "id": "088f5c2b",
   "metadata": {},
   "outputs": [],
   "source": [
    "df = get_github_data()"
   ]
  },
  {
   "cell_type": "code",
   "execution_count": 3,
   "id": "36fe3a30",
   "metadata": {},
   "outputs": [],
   "source": [
    "# prepare the data by creating clean, stemmed and lemmatized columns\n",
    "df = prepare.prep_github_data(df, column='readme_contents')\n"
   ]
  },
  {
   "cell_type": "code",
   "execution_count": 4,
   "id": "e59836d6",
   "metadata": {
    "scrolled": false
   },
   "outputs": [
    {
     "data": {
      "text/html": [
       "<div>\n",
       "<style scoped>\n",
       "    .dataframe tbody tr th:only-of-type {\n",
       "        vertical-align: middle;\n",
       "    }\n",
       "\n",
       "    .dataframe tbody tr th {\n",
       "        vertical-align: top;\n",
       "    }\n",
       "\n",
       "    .dataframe thead th {\n",
       "        text-align: right;\n",
       "    }\n",
       "</style>\n",
       "<table border=\"1\" class=\"dataframe\">\n",
       "  <thead>\n",
       "    <tr style=\"text-align: right;\">\n",
       "      <th></th>\n",
       "      <th>repo</th>\n",
       "      <th>language</th>\n",
       "      <th>readme_contents</th>\n",
       "      <th>clean</th>\n",
       "      <th>stemmed</th>\n",
       "      <th>lemmatized</th>\n",
       "    </tr>\n",
       "  </thead>\n",
       "  <tbody>\n",
       "    <tr>\n",
       "      <th>0</th>\n",
       "      <td>jagrosh/MusicBot</td>\n",
       "      <td>Java</td>\n",
       "      <td>&lt;img align=\"right\" src=\"https://i.imgur.com/zr...</td>\n",
       "      <td>img alignright srchttpsiimgurcomzre80hypng hei...</td>\n",
       "      <td>img alignright srchttpsiimgurcomzre80hypng hei...</td>\n",
       "      <td>img alignright srchttpsiimgurcomzre80hypng hei...</td>\n",
       "    </tr>\n",
       "    <tr>\n",
       "      <th>1</th>\n",
       "      <td>Just-Some-Bots/MusicBot</td>\n",
       "      <td>Python</td>\n",
       "      <td># MusicBot\\n\\n[![GitHub stars](https://img.shi...</td>\n",
       "      <td>music github starshttpsimgshieldsiogithubstars...</td>\n",
       "      <td>music github starshttpsimgshieldsiogithubstars...</td>\n",
       "      <td>music github starshttpsimgshieldsiogithubstars...</td>\n",
       "    </tr>\n",
       "    <tr>\n",
       "      <th>2</th>\n",
       "      <td>SudhanPlayz/Discord-MusicBot</td>\n",
       "      <td>JavaScript</td>\n",
       "      <td>&lt;h1 align=\"center\"&gt;&lt;img src=\"./assets/logo.gif...</td>\n",
       "      <td>h1 aligncenterimg srcassetslogogif width30px d...</td>\n",
       "      <td>h1 aligncenterimg srcassetslogogif width30px d...</td>\n",
       "      <td>h1 aligncenterimg srcassetslogogif width30px d...</td>\n",
       "    </tr>\n",
       "    <tr>\n",
       "      <th>3</th>\n",
       "      <td>IVETRI/SongPlayRoBot</td>\n",
       "      <td>Python</td>\n",
       "      <td># Check Our New Bot Repo &amp; Video :\\n\\n[Video](...</td>\n",
       "      <td>check new  repo video videohttpsyoutube3pn0w4k...</td>\n",
       "      <td>check new repo video videohttpsyoutube3pn0w4kz...</td>\n",
       "      <td>check new repo video videohttpsyoutube3pn0w4kz...</td>\n",
       "    </tr>\n",
       "    <tr>\n",
       "      <th>5</th>\n",
       "      <td>galnir/Master-Bot</td>\n",
       "      <td>TypeScript</td>\n",
       "      <td># A Discord Music Bot written in TypeScript Sa...</td>\n",
       "      <td>discord music  written typescript sapphire dis...</td>\n",
       "      <td>discord music written typescript sapphir disco...</td>\n",
       "      <td>discord music written typescript sapphire disc...</td>\n",
       "    </tr>\n",
       "    <tr>\n",
       "      <th>...</th>\n",
       "      <td>...</td>\n",
       "      <td>...</td>\n",
       "      <td>...</td>\n",
       "      <td>...</td>\n",
       "      <td>...</td>\n",
       "      <td>...</td>\n",
       "    </tr>\n",
       "    <tr>\n",
       "      <th>192</th>\n",
       "      <td>Micium-Development/Bounce</td>\n",
       "      <td>JavaScript</td>\n",
       "      <td>### 📥 Micium-Development Is recruiting develop...</td>\n",
       "      <td>miciumdevelopment recruiting developers want j...</td>\n",
       "      <td>miciumdevelop recruit develop want join dev te...</td>\n",
       "      <td>miciumdevelopment recruiting developer want jo...</td>\n",
       "    </tr>\n",
       "    <tr>\n",
       "      <th>193</th>\n",
       "      <td>philliphqs/hqs.bot</td>\n",
       "      <td>Python</td>\n",
       "      <td>&lt;br /&gt;\\n&lt;p align=\"center\"&gt;\\n  &lt;a href=\"https:/...</td>\n",
       "      <td>br p aligncenter hrefhttpsgithubcomphilliphqsh...</td>\n",
       "      <td>br p aligncent hrefhttpsgithubcomphilliphqshqs...</td>\n",
       "      <td>br p aligncenter hrefhttpsgithubcomphilliphqsh...</td>\n",
       "    </tr>\n",
       "    <tr>\n",
       "      <th>196</th>\n",
       "      <td>MrRizoel/RiZoeLXMusic</td>\n",
       "      <td>Python</td>\n",
       "      <td>&lt;h2 align=\"centre\"&gt;ℝ𝚒ℤ𝚘𝚎𝕃𝕏𝕄𝚞𝚜𝚒𝚌 🎵&lt;/h2&gt;\\n\\n### ...</td>\n",
       "      <td>h2 aligncentrerizoelxmusic h2  play music tele...</td>\n",
       "      <td>h2 aligncentrerizoelxmus h2 play music telegra...</td>\n",
       "      <td>h2 aligncentrerizoelxmusic h2 play music teleg...</td>\n",
       "    </tr>\n",
       "    <tr>\n",
       "      <th>197</th>\n",
       "      <td>noirscape/MusicBot-2</td>\n",
       "      <td>Python</td>\n",
       "      <td># Dynamic cog bot template\\n\\nThis is a bot te...</td>\n",
       "      <td>dynamic cog  template  template discordpy fram...</td>\n",
       "      <td>dynam cog templat templat discordpi framework ...</td>\n",
       "      <td>dynamic cog template template discordpy framew...</td>\n",
       "    </tr>\n",
       "    <tr>\n",
       "      <th>198</th>\n",
       "      <td>bhkvlldu/MusicBot</td>\n",
       "      <td>Python</td>\n",
       "      <td># ⌯ Source zoro ˹♻️˼⁩\\n\\n• I am a developer in...</td>\n",
       "      <td>source zoro developer python library tele pyro...</td>\n",
       "      <td>sourc zoro develop python librari tele pyrogra...</td>\n",
       "      <td>source zoro developer python library tele pyro...</td>\n",
       "    </tr>\n",
       "  </tbody>\n",
       "</table>\n",
       "<p>160 rows × 6 columns</p>\n",
       "</div>"
      ],
      "text/plain": [
       "                             repo    language  \\\n",
       "0                jagrosh/MusicBot        Java   \n",
       "1         Just-Some-Bots/MusicBot      Python   \n",
       "2    SudhanPlayz/Discord-MusicBot  JavaScript   \n",
       "3            IVETRI/SongPlayRoBot      Python   \n",
       "5               galnir/Master-Bot  TypeScript   \n",
       "..                            ...         ...   \n",
       "192     Micium-Development/Bounce  JavaScript   \n",
       "193            philliphqs/hqs.bot      Python   \n",
       "196         MrRizoel/RiZoeLXMusic      Python   \n",
       "197          noirscape/MusicBot-2      Python   \n",
       "198             bhkvlldu/MusicBot      Python   \n",
       "\n",
       "                                       readme_contents  \\\n",
       "0    <img align=\"right\" src=\"https://i.imgur.com/zr...   \n",
       "1    # MusicBot\\n\\n[![GitHub stars](https://img.shi...   \n",
       "2    <h1 align=\"center\"><img src=\"./assets/logo.gif...   \n",
       "3    # Check Our New Bot Repo & Video :\\n\\n[Video](...   \n",
       "5    # A Discord Music Bot written in TypeScript Sa...   \n",
       "..                                                 ...   \n",
       "192  ### 📥 Micium-Development Is recruiting develop...   \n",
       "193  <br />\\n<p align=\"center\">\\n  <a href=\"https:/...   \n",
       "196  <h2 align=\"centre\">ℝ𝚒ℤ𝚘𝚎𝕃𝕏𝕄𝚞𝚜𝚒𝚌 🎵</h2>\\n\\n### ...   \n",
       "197  # Dynamic cog bot template\\n\\nThis is a bot te...   \n",
       "198  # ⌯ Source zoro ˹♻️˼⁩\\n\\n• I am a developer in...   \n",
       "\n",
       "                                                 clean  \\\n",
       "0    img alignright srchttpsiimgurcomzre80hypng hei...   \n",
       "1    music github starshttpsimgshieldsiogithubstars...   \n",
       "2    h1 aligncenterimg srcassetslogogif width30px d...   \n",
       "3    check new  repo video videohttpsyoutube3pn0w4k...   \n",
       "5    discord music  written typescript sapphire dis...   \n",
       "..                                                 ...   \n",
       "192  miciumdevelopment recruiting developers want j...   \n",
       "193  br p aligncenter hrefhttpsgithubcomphilliphqsh...   \n",
       "196  h2 aligncentrerizoelxmusic h2  play music tele...   \n",
       "197  dynamic cog  template  template discordpy fram...   \n",
       "198  source zoro developer python library tele pyro...   \n",
       "\n",
       "                                               stemmed  \\\n",
       "0    img alignright srchttpsiimgurcomzre80hypng hei...   \n",
       "1    music github starshttpsimgshieldsiogithubstars...   \n",
       "2    h1 aligncenterimg srcassetslogogif width30px d...   \n",
       "3    check new repo video videohttpsyoutube3pn0w4kz...   \n",
       "5    discord music written typescript sapphir disco...   \n",
       "..                                                 ...   \n",
       "192  miciumdevelop recruit develop want join dev te...   \n",
       "193  br p aligncent hrefhttpsgithubcomphilliphqshqs...   \n",
       "196  h2 aligncentrerizoelxmus h2 play music telegra...   \n",
       "197  dynam cog templat templat discordpi framework ...   \n",
       "198  sourc zoro develop python librari tele pyrogra...   \n",
       "\n",
       "                                            lemmatized  \n",
       "0    img alignright srchttpsiimgurcomzre80hypng hei...  \n",
       "1    music github starshttpsimgshieldsiogithubstars...  \n",
       "2    h1 aligncenterimg srcassetslogogif width30px d...  \n",
       "3    check new repo video videohttpsyoutube3pn0w4kz...  \n",
       "5    discord music written typescript sapphire disc...  \n",
       "..                                                 ...  \n",
       "192  miciumdevelopment recruiting developer want jo...  \n",
       "193  br p aligncenter hrefhttpsgithubcomphilliphqsh...  \n",
       "196  h2 aligncentrerizoelxmusic h2 play music teleg...  \n",
       "197  dynamic cog template template discordpy framew...  \n",
       "198  source zoro developer python library tele pyro...  \n",
       "\n",
       "[160 rows x 6 columns]"
      ]
     },
     "execution_count": 4,
     "metadata": {},
     "output_type": "execute_result"
    }
   ],
   "source": [
    "df"
   ]
  },
  {
   "cell_type": "code",
   "execution_count": 5,
   "id": "40c55192",
   "metadata": {},
   "outputs": [
    {
     "data": {
      "text/html": [
       "<div>\n",
       "<style scoped>\n",
       "    .dataframe tbody tr th:only-of-type {\n",
       "        vertical-align: middle;\n",
       "    }\n",
       "\n",
       "    .dataframe tbody tr th {\n",
       "        vertical-align: top;\n",
       "    }\n",
       "\n",
       "    .dataframe thead th {\n",
       "        text-align: right;\n",
       "    }\n",
       "</style>\n",
       "<table border=\"1\" class=\"dataframe\">\n",
       "  <thead>\n",
       "    <tr style=\"text-align: right;\">\n",
       "      <th></th>\n",
       "      <th>repo</th>\n",
       "      <th>language</th>\n",
       "      <th>readme_contents</th>\n",
       "      <th>clean</th>\n",
       "      <th>stemmed</th>\n",
       "      <th>lemmatized</th>\n",
       "      <th>text_length</th>\n",
       "    </tr>\n",
       "  </thead>\n",
       "  <tbody>\n",
       "    <tr>\n",
       "      <th>0</th>\n",
       "      <td>jagrosh/MusicBot</td>\n",
       "      <td>Java</td>\n",
       "      <td>&lt;img align=\"right\" src=\"https://i.imgur.com/zr...</td>\n",
       "      <td>img alignright srchttpsiimgurcomzre80hypng hei...</td>\n",
       "      <td>img alignright srchttpsiimgurcomzre80hypng hei...</td>\n",
       "      <td>img alignright srchttpsiimgurcomzre80hypng hei...</td>\n",
       "      <td>2603</td>\n",
       "    </tr>\n",
       "    <tr>\n",
       "      <th>1</th>\n",
       "      <td>Just-Some-Bots/MusicBot</td>\n",
       "      <td>Python</td>\n",
       "      <td># MusicBot\\n\\n[![GitHub stars](https://img.shi...</td>\n",
       "      <td>music github starshttpsimgshieldsiogithubstars...</td>\n",
       "      <td>music github starshttpsimgshieldsiogithubstars...</td>\n",
       "      <td>music github starshttpsimgshieldsiogithubstars...</td>\n",
       "      <td>1375</td>\n",
       "    </tr>\n",
       "    <tr>\n",
       "      <th>2</th>\n",
       "      <td>SudhanPlayz/Discord-MusicBot</td>\n",
       "      <td>JavaScript</td>\n",
       "      <td>&lt;h1 align=\"center\"&gt;&lt;img src=\"./assets/logo.gif...</td>\n",
       "      <td>h1 aligncenterimg srcassetslogogif width30px d...</td>\n",
       "      <td>h1 aligncenterimg srcassetslogogif width30px d...</td>\n",
       "      <td>h1 aligncenterimg srcassetslogogif width30px d...</td>\n",
       "      <td>2109</td>\n",
       "    </tr>\n",
       "    <tr>\n",
       "      <th>3</th>\n",
       "      <td>IVETRI/SongPlayRoBot</td>\n",
       "      <td>Python</td>\n",
       "      <td># Check Our New Bot Repo &amp; Video :\\n\\n[Video](...</td>\n",
       "      <td>check new  repo video videohttpsyoutube3pn0w4k...</td>\n",
       "      <td>check new repo video videohttpsyoutube3pn0w4kz...</td>\n",
       "      <td>check new repo video videohttpsyoutube3pn0w4kz...</td>\n",
       "      <td>568</td>\n",
       "    </tr>\n",
       "    <tr>\n",
       "      <th>5</th>\n",
       "      <td>galnir/Master-Bot</td>\n",
       "      <td>TypeScript</td>\n",
       "      <td># A Discord Music Bot written in TypeScript Sa...</td>\n",
       "      <td>discord music  written typescript sapphire dis...</td>\n",
       "      <td>discord music written typescript sapphir disco...</td>\n",
       "      <td>discord music written typescript sapphire disc...</td>\n",
       "      <td>8350</td>\n",
       "    </tr>\n",
       "  </tbody>\n",
       "</table>\n",
       "</div>"
      ],
      "text/plain": [
       "                           repo    language  \\\n",
       "0              jagrosh/MusicBot        Java   \n",
       "1       Just-Some-Bots/MusicBot      Python   \n",
       "2  SudhanPlayz/Discord-MusicBot  JavaScript   \n",
       "3          IVETRI/SongPlayRoBot      Python   \n",
       "5             galnir/Master-Bot  TypeScript   \n",
       "\n",
       "                                     readme_contents  \\\n",
       "0  <img align=\"right\" src=\"https://i.imgur.com/zr...   \n",
       "1  # MusicBot\\n\\n[![GitHub stars](https://img.shi...   \n",
       "2  <h1 align=\"center\"><img src=\"./assets/logo.gif...   \n",
       "3  # Check Our New Bot Repo & Video :\\n\\n[Video](...   \n",
       "5  # A Discord Music Bot written in TypeScript Sa...   \n",
       "\n",
       "                                               clean  \\\n",
       "0  img alignright srchttpsiimgurcomzre80hypng hei...   \n",
       "1  music github starshttpsimgshieldsiogithubstars...   \n",
       "2  h1 aligncenterimg srcassetslogogif width30px d...   \n",
       "3  check new  repo video videohttpsyoutube3pn0w4k...   \n",
       "5  discord music  written typescript sapphire dis...   \n",
       "\n",
       "                                             stemmed  \\\n",
       "0  img alignright srchttpsiimgurcomzre80hypng hei...   \n",
       "1  music github starshttpsimgshieldsiogithubstars...   \n",
       "2  h1 aligncenterimg srcassetslogogif width30px d...   \n",
       "3  check new repo video videohttpsyoutube3pn0w4kz...   \n",
       "5  discord music written typescript sapphir disco...   \n",
       "\n",
       "                                          lemmatized  text_length  \n",
       "0  img alignright srchttpsiimgurcomzre80hypng hei...         2603  \n",
       "1  music github starshttpsimgshieldsiogithubstars...         1375  \n",
       "2  h1 aligncenterimg srcassetslogogif width30px d...         2109  \n",
       "3  check new repo video videohttpsyoutube3pn0w4kz...          568  \n",
       "5  discord music written typescript sapphire disc...         8350  "
      ]
     },
     "execution_count": 5,
     "metadata": {},
     "output_type": "execute_result"
    }
   ],
   "source": [
    "# Feature Engineer README length\n",
    "# Get the length of text in each README\n",
    "df['text_length'] = df.lemmatized.apply(len)\n",
    "df.head()"
   ]
  },
  {
   "cell_type": "markdown",
   "id": "6081df2f",
   "metadata": {},
   "source": [
    "## Exploration\n",
    "\n",
    "# Explore and visualize the natural language data that you have acquired. Here are some ideas for exploration:\n",
    "\n",
    "> - What are the most common words in READMEs?\n",
    "> - Does the length of the README vary by programming language?\n",
    "> - Do different programming languages use a different number of unique words?\n",
    "> - Are there any words that uniquely identify a programming language?\n"
   ]
  },
  {
   "cell_type": "code",
   "execution_count": 6,
   "id": "02c4bcbe",
   "metadata": {},
   "outputs": [
    {
     "name": "stdout",
     "output_type": "stream",
     "text": [
      "train---> (128, 7)\n",
      "test---> (32, 7)\n"
     ]
    }
   ],
   "source": [
    "train, test = prepare.split_github_data(df)"
   ]
  },
  {
   "cell_type": "code",
   "execution_count": 7,
   "id": "5b5829f9",
   "metadata": {},
   "outputs": [
    {
     "data": {
      "text/plain": [
       "[('music', 476),\n",
       " ('song', 216),\n",
       " ('command', 175),\n",
       " ('play', 175),\n",
       " ('discord', 163),\n",
       " ('text', 157),\n",
       " ('option', 152),\n",
       " ('spotify', 133),\n",
       " ('youtube', 132),\n",
       " ('help', 129),\n",
       " ('file', 129),\n",
       " ('default', 108),\n",
       " ('support', 106),\n",
       " ('run', 105),\n",
       " ('token', 100),\n",
       " ('install', 100),\n",
       " ('queue', 95),\n",
       " ('playlist', 90),\n",
       " ('img', 86),\n",
       " ('show', 86)]"
      ]
     },
     "execution_count": 7,
     "metadata": {},
     "output_type": "execute_result"
    }
   ],
   "source": [
    "# counts most frequent words from sentences in a df\n",
    "\n",
    "top_20_words_readme = Counter(\" \".join(train[\"lemmatized\"]).split()).most_common(20)\n",
    "top_20_words_readme\n"
   ]
  },
  {
   "cell_type": "code",
   "execution_count": 8,
   "id": "cd5fdcc7",
   "metadata": {},
   "outputs": [],
   "source": [
    "js_words = ' '.join(train[train.language=='JavaScript'].lemmatized)\n",
    "python_words = ' '.join(train[train.language=='Python'].lemmatized)\n",
    "j_words = ' '.join(train[train.language=='Java'].lemmatized)\n",
    "ts_words = ' '.join(train[train.language=='TypeScript'].lemmatized)\n",
    "go_words = ' '.join(train[train.language=='Go'].lemmatized)\n",
    "kotlin_words = ' '.join(train[train.language=='Kotlin'].lemmatized)\n",
    "\n",
    "js_words = re.sub(r'\\s.\\s', '', js_words)\n",
    "python_words = re.sub(r'\\s.\\s', '', python_words)\n",
    "j_words = re.sub(r'\\s.\\s', '', j_words)\n",
    "ts_words = re.sub(r'\\s.\\s', '', ts_words)\n",
    "go_words = re.sub(r'\\s.\\s', '', go_words)\n",
    "kotlin_words = re.sub(r'\\s.\\s', '', kotlin_words)\n",
    "\n"
   ]
  },
  {
   "cell_type": "code",
   "execution_count": 9,
   "id": "a6d26f6c",
   "metadata": {},
   "outputs": [
    {
     "data": {
      "text/plain": [
       "'discordjs v13 slash command music h3discord httpsdiscordggfy4wmsthrzh3 h3youtube httpsbitly3zgizyrh3 hr h3 discord developer httpsdiscorddevbr discord permission httpsbitly3l4rzpibr download visual studio code httpscodevisualstudiocomdownloadbr download nodejs v16 httpsnodejsorgbr mongodb httpsmongodbcom h3 discordmusictemplate playteddypicker1jhttpswwwarknightskr httpsbluearchivenexoncomhome discordjshttpsdiscordjsorg youtubedlhttpsyoutubedlorg youtubedl rhythm hydra chip discordjs voice builder rest opushttpsgithubcomdiscordjsdiscordjs ffmpeghttpsgithubcomffmpegffmpeg nodeytdlcorehttpsgithubcomfentnodeytdlcore nodeytsrhttpsgithubcomtimeforaninjanodeytsr nodeytplhttpsgithubcomtimeforaninjanodeytpl playdlhttpsgithubcomplaydlplaydl scdlhttpsgithubcomzackradisicnodesoundclouddownloader snowsanthttpsmediadiscordappnetattachments91701405261248103495771418787279678220220328_035332png 100 100 arishttpsmediadiscordappnetattachments91701405261248103495771418808669393820220328_035345png 250 250 hifumihttpsmediadiscordappnetattachments91701405261248103495771418832157092720220328_035352png 100 100 yuzuhttpsmediadiscordappnetattachments91701405261248103495771418853968294720220328_035358png 100 100328 blacksuithttpsmediadiscordappnetattachments91701405261248103495771418873260445620220328_035406png httpsdiscordcomapioauth2authorizeclient_id957670020522057779permissions8scope20applicationscommands miyuhttpsmediadiscordappnetattachments91701405261248103495771418895912149820220328_035412png httpsdiscordcomapioauth2authorizeclient_id957671563656827000permissions8scope20applicationscommands miciumdevelopment recruiting developer want join dev team click herehttpsformsglezuxfbv8a5qap16zb8 bounce complete music made looking music fully open source made need help project get support faster join help server clicking herehttpsdiscordggzrt7gw99up dont development knowledge recommended join discord support server get help configuration open configuration file located main folder configjson prefix token installation use project correctly need tool nodev17 environment lavalink node playing music token spotify dev id run img alignleft altreplit srchttpscamogithubusercontentcom4deb0e1fe2859b5e7359771d9b83dbeaafef4009c2f312df5b84bf9f6b0951c868747470733a2f2f7265706c2e69742f62616467652f6769746875622f53756468616e506c61797a2f446973636f72642d4d75736963426f74 httpsreplitcomgrowtoupsgamingbounce br realized miciumdevelopment please withdraw license keep credit project want cool role discord supportpatreon httpspatreoncommicium_development h1 aligncenter thundric music latest update discordjs v13 break use v5 versionrelease date prerequisite nodejs 14httpsnodejsorgendownload discordjs1253 lavalink serverhttpsgithubcomfreyacodeslavalinkserverconfiguration join discord lavalink issue note lavalink needed music functionality need working lavalink server make work support serverhttpsdiscordggq4hwye6rst join discord dashboard issue lavalink issue help major coding issue please join ask help screenshots div alignleftimg srcassetsscreenshot_1pngdivdiv aligncenterimg srcassetsscreenshot_2pngdivdiv alignrightimg srcassetsscreenshot_3pngdiv div aligncenterimg srcassetsfeaturespngdiv run project remix glitchhttpscdnglitchcom2703baf2b6434da7ab917ee2a2d00b5b2fremixbuttonsvghttpsglitchcomeditimportgithubthundric1thundricxmusic run replithttpsreplitbadgegithubsudhanplayzdiscordmusichttpsreplitgithubthundric1thundricxmusic deployhttpswwwherokucdncomdeploybuttonsvghttpsherokucomdeploytemplatehttpsgithubcomthundric1thundricxmusic contributor contribution always welcomed make sure follow contributingmdcontributingmd hrefhttpsgithubcomthundric1thundricxmusicgraphscontributors img srchttpscontributorsimgwebappimagerepothundric1discordmusic made heart javascript cqux bpmxaplayerhttpsaplayerjsorg metingjshttpsgithubcommetowolfmetingjs api music usage git bash git clone httpsgithubcomroobootsmusicgit cd music git submodule init git submodule update docker bash proxylocalhost20171 telegram_apitoken1447999257aafcupdx7atrdqyhn_xfl8hdinpdthoyi2i dockercompose pm2 bash yarn global add pm2 proxylocalhost20171 telegram_apitoken1447999257aafcupdx7atrdqyhn_xfl8hdinpdthoyi2i pm2 start appjs name music todo mp3tagmetadataid3v1 id3v2 tagmetadata flac ape aac discordjsmusic um de musica 100 intuitivofacil de usar totalmente em embed funcoes detectar uma musica youtube atraves de link ou simplesmente por pesquisa um 100 embed com reacoesopcoes para musica pausa musica pulamusica da filum coloca musica atual em loop como usar ante de tudo baixe githubva em modulesmusicmoduleconfigureo seu gosto setting channel coloque nome de seu canal de musica em que ira enviar embed coloque exatamente nome padrao musica setting djrole cargo que da permissao para poder reagir na reacoes da embed troque id mesmo simple apenas crie um arquivo bat em seu computadordentro dele escreva npm save ira instalar toda dependencias packagejson apos fazer isso escreva node ira iniciar lembrese de criar seu em seu discorddefinir token la em databasecredentials crie seu httpsdiscordcomdevelopers licenca esteum codigo aberto naonecessario pedir permissao para usar modificar mesmo apenasproibido venda codigo music advanced discord lavalink music discord music written javascript made rdimo6969 httpsimgshieldsiogithubwatchersrdimodiscordmusicstylesocial httpsimgshieldsiogithubstarsrdimodiscordmusicstylesocial vid tutorial herehttpswwwyoutubecomwatchvdqw4w9wgxcq made love code license project used modified anyone want made people want simple music download zip follow tutorial get started step step installation start creating discord herehttpsdiscordcomdevelopersapplications downloadhttpsgithubcomrdimodiscordmusicarchiverefsheadsmainzip project zip extract open folder visual studio codehttpscodevisualstudiocomdownload editor choice open terminal type npm install required module change tokensapi key configjson get youtube api keyhttpsdevelopersgooglecomyoutubev3gettingstarted node indexjs terminal start done token yourtoken prefix discord_owner_id yourdiscordid youtubeapi youtubeapikey need help add rdimo6969 discord help join discordhttpsrdimogithubiocheataway fork give star liked wanna support project option default setting optionsjson change liking playlivestreams true playvideoslongerthan1hour true maxqueuelength 1000 automaticallyshuffleyoutubeplaylists false leavetimeout 90 maxresponsetime 30 deleteoldplaymessage false playlivestreams allow play live stream truefalse playvideoslongerthan1hour allow play video longerhour truefalse maxqueuelength maximum number song queue integerautomaticallyshuffleyoutubeplaylists automatic shuffle youtube playlist truefalse leavetimeout timeout second leaf channel due inactivityinteger600 maxresponsetime maximum time second allowed user response back cancelling command example using play song name integer150 deleteoldplaymessage remove play message playing truefalse command play play song playlist youtube searching song name song url playlist url createplaylist create saved playlist deleteplaylist delete playlist saved playlist displayplaylist display saved playlist myplaylists list saved playlist removefromplaylist remove song saved playlist using index savetoplaylist save song playlist saved playlist pause pause current playing song resume resume current paused song leave leaf voice channel one remove remove specific song queue number queue queue display song queue shuffle shuffle song queue skip skip current playing song skipall skip song queue skipto skip specific song queue provide song number argument volume adjust song volume musictrivia engage music trivia friend add song trivia pool resourcesmusicmusictriviajson loop loop currently playing song nowplaying display current playing song playback bar move move song desired position queue help display list available command detailed information specified command ping checkping discord server contributing fork repositoryhttpsgithubcomrdimosimplediscordmusicfork clone fork git clone httpsgithubcomyourusernamesimplediscordmusicgit create feature branch git checkoutmynewfeature commit change git commit add feature push branch git push origin mynewfeature submit pull request archived httpsgithubcomgarlicteamotherstufftreemusic requirement nodejs v16 ffmpeg packageshttpsgithubcomgarlicteammusicblobdevpackagejson runchange token templateenvrename templateenv envnpm start discord server httpsdiscordggajkjsbbgm2 h1 aligncenter br img srchttpsiimgurcomn2wtmgsjpg altmusic width120 br br music h1aligncenter music discord developed nodejspaligncenter hrefhttpsopensourceorglicensesmit img srchttpsimgshieldsiobadgelicensemitbluesvg altlicense mitfeature add feature project tool used project nodemain language used discordjs library allows program discord ytdl youtube download module ytsr simplemodule search youtube doesnt need login googleapi key h1 easy awsome music made lavalink using erelajs wrapper h1 br developed tyson hr h3meet developer hrefhttpsdiscordggvesp8vz2dr discordh3 h1 feature h1 li code music code li li code information code li li code basic code li hr li code command code li pre bassboost info eval forward help invite loop nowplaying pause ping play queue resume rewind setprefix shuffle skip skipto stop uptime volumepre hr h3 clone h3 li clone repository li pre git clone httpsgithubcomthundertysonerelajsmusicgit pre hr h3 installh3 li install dependency li pre npm install pre hr h3 configration config h3 li configjson li pre token prefix owner 580381333914648579 host localhost port 2333 hostpassw youshallnotpass pre hr h3 start h3 li run li pre node indexjs pre hr h3 download lavalink h3 li httpscifredboatcomrepositorydownloadlavalink_buildlastsuccessfullavalinkjarguest1branchrefsheadsdev li li put lavalinkjar filefolder like shown image belowli img srchttpscdndiscordappcomattachments834116511005671444867696808552824832capturpng altimage stylewidth900pxheight1000px arsmusic hello guy introducing arsmusic artz whats answer actually simple free use javascript music yes yes heard right completely free let move set setting harder part let check got requirement br nodejsnodehttpsnodejsorgenbr pythonpythonhttpswwwpythonorgdownloadsbr checked requirement everything set let start opening folder called config inside open configjsonexamplebr take example name configjson go ahead fill config filebrdiscord token youtube api key easily get herehttpsconsoledevelopersgooglecombr setting token change prefix want optionalbr default_prefix want open command prompt inside music folder typebr npm install basically install dependency projectbr thats done type console node appjs please nodemonbr booooooom done simply type play song name link insted prefix start download songsbr come custom logger wrote find inside classesloggerjs __enojy key d__ changelog __7252017__ manage get song playing placed inside queue per server ___ __7262017__ full playlist support working skip command aoijs line codehttpsimgshieldsiotokeilinesgithubayush4385aoijsstyleforthebadge simple multipupose made aoijsformely dbdjsits simple easy package made develop discorduse codethen dont need credit note made command make multipurpose economymusic much invite link invite link since guide configure easy configure git clone httpsgithubcomayush4385aoijs edit configjs use npm start queriesfeel free dm mei ayush4385 discord contribution feel free make pull request contribute project issue hrefhttpsdiscordggwcdtmknbjv img altdiscord srchttpsimgshieldsiobadgethe coding hill237289dasvgstyleforthebadgelogodiscordlogocolorwhite music github repository musicmusic system made using source eritislamievo including change thank amazing music system music feature youtube keyless api soundcloud spotify support stable music playback patch time time ensure performing efficiently support development send pull request issue request help make music better discord discord nikoszz1275 twitter nikosszzzz discordjslavalinkmusic lavalink music module based darkopendragonhttpsgithubcomdarkopendragons discordjsmusicaddonhttpsgithubcomdarkopendragondiscordjsmusicaddon module npm packagehttpsnodeiconpmdiscordjslavalinkmusicpngdownloadstruedownloadranktruestarstruehttpsnodeiconpmdiscordjslavalinkmusic brbr please join discord server assistance module xeriapps supporthttpsdiscordggdnn4azk discord serverhttpsdiscordappcomapiguilds483203473643405312embedpnghttpsdiscordggdnn4azk prerequisite lavalink node java 13 dont one nodejs 12 brain usage install lavalinkhttpscifredboatcomviewloghtmlbuildidlastsuccessfulbuildtypeidlavalink_buildtabartifactsguest1 example applicationyml provided lavalink folder install actual module lavalink provided install module run npm discordjslavalinkmusic notice use glitch make sure set port 3000 applicationyml configuration lavalink area glitch work portbr make sure use completely separate glitch project lavalinkbr also please remember limit memory usage thats im telling setup example javascript const discord requirediscordjs const new discordclient music new requirediscordjslavalinkmusic lavalink restnode host localhost port 8643 passwordyoushallnotpass node host localhost port 8643 region asia password youshallnotpass admins 455346525716086795 login token option option type required description default prefix string show want respond helpcmd string help command mhelp playcmd string play command play pausecmd string pause command pause stopcmd string stop command stop queuecmd string queue command queue npcmd string playing command np skipcmd string skip command skip volumecmd string volume command volume resumecmd string resume command resume loopcmd string loop command loop admins string admins customgame presencedata set custom game name type playing lavalink lavalinkoptions yes changed default lavalink setting lavalink setting check example changelog v007 later v010 added typing file migrated discordjslavalinkhttpsnpmjscompackagediscordjslavalink lavacordhttpsnpmjscompackagelavacord added gitignore npmignore modified readme cleared lot commented code used lot space v009 fixed queue undefined execqueue wow never noticed thanks discord server added loop seek command updated dependency reconfigure better connecting host doesnt give port example localhost8538 1547622518lavalinkdjslhostcom adding address config youre welcome updated literally everything run better hopefully v008 switched snekfetchhttpsnpmjscompackagesnekfetch axioshttpsnpmjscompackageaxios reconfigured module longer require token use added discordjs v12 support presumably v007 added volume command fixed skip command probably reconfigured module latest version lavalink h1 aligncenterimg srcassetslogogif width30px discord music img srcassetslogogif width30pxh1aligncenterthanks 25k view 500 subsp latest update discordjs v13 break use started working v5httpsgithubcomsudhanplayzdiscordmusictreev5 daysmonths new feature much way prerequisite nodejs 14httpsnodejsorgendownload discordjs1253httpswwwnpmjscompackagediscordjsv1253 lavalink serverhttpsdarrennathanaelcomposthowtolavalinkutm_sourcegithubsudhanplayzutm_mediumreadmeutm_campaignsudhanplayzutm_contentlavalinkprerequisites note lavalink needed music functionality need working lavalink server make work tutorial tutorial uploaded youtube watch clicking image advanced discord music web dashboard spotify supporthttpsimgyoutubecomvip4lp96tiv9smaxresdefaultjpghttpswwwyoutubecomwatchvp4lp96tiv9s replit tutorialhttpsgithubcomsudhanplayzdiscordmusicwikiinstallationonreplit vps server tutorialhttpsgithubcomsudhanplayzdiscordmusicwikiinstallationonalinuxserver support serverhttpsdiscordggsbysms7m3v major coding issue please join ask help screenshots div alignleftimg srcassetsscreenshot_1pngdivdiv aligncenterimg srcassetsscreenshot_2pngdivdiv alignrightimg srcassetsscreenshot_3pngdiv div aligncenterimg srcassetsfeaturepngdiv run project remix glitchhttpscdnglitchcom2703baf2b6434da7ab917ee2a2d00b5b2fremixbuttonsvghttpsglitchcomeditimportgithubsudhanplayzdiscordmusicnbspnbspnbspnbspnbspnbsp deployhttpswwwherokucdncomdeploybuttonsvghttpsherokucomdeploytemplatehttpsgithubcomsudhanplayzdiscordmusicnbspnbspnbspnbspnbspnbsp run replithttpsreplitbadgegithubsudhanplayzdiscordmusichttpsreplitgithubsudhanplayzdiscordmusic note hosting heroku please consider upgrading dyno running dashboard simultaneously free dyno itll run memoryas two worker want run turn web dyno contributor contribution always welcomed make sure follow contributingmdcontributingmd hrefhttpsgithubcomsudhanplayzdiscordmusicgraphscontributors img srchttpscontributorsimgwebappimagereposudhanplayzdiscordmusic note contribution accepted master branch like contribute check v5 branchhttpsgithubcomsudhanplayzdiscordmusictreev5 made heart javascript div aligncenteraligncenterimg srchttpscdndiscordappcomavatars769179909300944906944ea131a5181e82181b19127534470cpngsize2048 width200pbr hrefhttpsdiscordcominvitesy57ftyimg srchttpsimgshieldsiodiscord694554848758202451styleforthebadgea hrefhttpsgithubcomgwatechmusicoblobmainlicenseimg srchttpsimgshieldsiogithublicensemashapeapistatussvgstyleforthebadgea pbmusicob provides amazing feature like high quality music many source moderation command utility tool much morep div contributing contributor welcomed repository may read contributingmd file get detailed info contribute note musico private gwa tech discord server cannot added server self hosting please dont incase selfhosting help provided side discord server hrefhttpsdiscordggsy57fty target_blank img srchttpsinwidgetmiuga694554848758202451 altdiscord server music 24x7 radio music discord project deprecated fork pull request welcome deploy railwayhttpsrailwayappbuttonsvghttpsrailwayappnewtemplatetemplatehttps3a2f2fgithubcom2fkb24x72fmusicenvstokentokendescyourtoken start music locallymake new file env token format tokenyour_token_here prefixoptional_defaultrun yarn dont yarn install using npminstall yarnrun node indexjs start commandhelp show commandplay urlsearch video play youtube videostop leave stop playing music servertrending play top trending video youtube musicdiscord music discordusing aoijs tapcompose source code tapcomposehttpswwwtapcomposecom life httpsgithubcomfreedmandtapcompose get started tapcompose built nodejs node installed install dependency bash cd tapcompose npm install start application bash npm run dev navigate localhost5000httplocalhost5000 see tapcompose running edit component file src save reload page see change contribution tapcompose conceived coded designed dylan freedman contributor ekta patel helped prototype interface tapcompose utilizes following library vexflowhttpsgithubcom0xfevexflow engraving sheet music sveltehttpsgithubcomsveltejssvelte implementing frameworkfree component h1 aligncenter henwy simple discord music h1aligncenter hrefhttpsgithubcomkingrainsimplediscordmusicissuesimg srchttpsimgshieldsiogithubissueskingrainsimplediscordmusicstyleflat hrefhttpsgithubcomkingrainsimplediscordmusicstargazersimg srchttpsimgshieldsiogithubstarskingrainsimplediscordmusicstyleflat hrefhttpstwittercomintentfolloworiginal_refererhttps3a2f2fgithubcom2frainboi15screen_namerainboi15img srchttpsimgshieldsiotwitterfollowrainboi15color1da1f2logotwitterstyleforthebadgeahenwy simple made discordjs made one easily hosted replithttpsreplitcom requirementdiscord token guidehttpsdiscordjsguidepreparationssettingupaapplicationhtmlcreatingyouryoutube data api v3 key guidehttpsdevelopersgooglecomyoutubev3gettingstarted 21 optional soundcloud client id guidehttpsgithubcomzackradisicnodesoundclouddownloaderclientidnodejs v1200 newer getting started going hosting replit follow step select create new repl select import github paste repos link kingrainsimplediscordmusic imagehttpsuserimagesgithubusercontentcom64059000125392348a289cd80e3c311eb91fc237fbc561624png select import github add token api configjson file correct line click run button top youll get screen like imagehttpsuserimagesgithubusercontentcom6405900012539735974a88700e3cb11eb9ad7a471bff8b32fpng copy top link going host 247 using uptimerohttpsuptimerocom login set account click add monitor make setting like imagehttpsuserimagesgithubusercontentcom64059000125397477a15c9e80e3cb11eb943808711afe87fdpng creating monitor uptimero would come wake website everyminitues would make repl hosted 247 deploying heroku make sure create config variable deployhttpswwwherokucdncomdeploybuttonsvghttpsherokucomdeploytemplatehttpsgithubcomkingrainsimplediscordmusic herokuhttpsiimgurcomiaouepgpng1 git clone httpsgithubcomkingrainsimplediscordmusicgit cd henwy npm install installation finish use node indexjs start configuration go configjson file add token api key note make sure dont share token api key anyone else avoid uploeding public repos json token youtube_api_key soundcloud_client_id max_playlist_size 10 prefix pruning false stay_time 30 feature command note default prefix play music youtube via url play httpswwwyoutubecomwatchvglvohmxgcbo play music youtube via search query play bridge red hot chili pepper play music soundcloud via url play httpssoundcloudcomblackhorsebrigadepearljamalive search select music play search pearl jam reply song number number seperated comma wish play example123 play youtube playlist via url playlist httpswwwyoutubecomwatchvylukcnnmywklistpl5rncwk3gio13sr_o57bgjcemqfawq82c play youtube playlist via search query playlist linkin park meteora playing np queue system queueloop repeat loop shuffle shuffle volume control volumelyric lyric ly pause pause resume resumeskip skip skip song queue skipto st remove song queue remove rm toggle pruning message pruning help helpcommand handler discordjsguidehttpsdiscordjsguide medium control via reaction imagehttpsuserimagesgithubusercontentcom640590001253945687cfec300e3c711eb85c950a56b743c8apng contribution feel free fork repo make change also contribute fix issue gitpull making change help greatly appreciated credit thanks inspired heavily eritislamihttpsgithubcomeritislami lot credit go towards make sure go check versionhttpsgithubcomeritislamievo donate like work would like donatehttpscoindroptorainboi feel free go donate whichever meathod want hrefhttpscoindroptorainboi target_blankimg srchttpscoindroptoembedbuttonpng styleborderradius 10px height 57px importantwidth 229px important altcoindropto rainboiimga musicmaistro discord musicmaistro discord music another one show song queue special way put song spotlight invite herehttppolliedevcommusicmaistro send message server owner case server owner request information info initial setup done command setup still early development still lot bug feature missing found bug nice feature request sure head issue page include much info issue contribution welcome im still developer thats learning everyday piece help welcome ill make nicer organised readme soontm discord music written javascript discordjs library discordjscommando framework forthebadgehttpsforthebadgecomimagesbadgesmadewithjavascriptsvghttpsforthebadgecom installing dependency npm setup make configjson file root directory project add prefix change prefix whatever want doesnt token yourtoken tenorapi tenorapikey newsapi newsapikey youtubeapi youtubeapikey yandexapi yandexapikey geniuslyricsapi geniusapikey run debianenvironment might work intended operating system need guide install nodejs debianubuntu link one resource also matter operating system make sure ffmpeghttpswwwffmpegorgdownloadhtml python 27httpswwwpythonorgdownloads installed cloning repo make sure dependency version repos command music command description usage play play song playlist youtube searching song name song url playlist url play darude sandstorm pause pause current playing song pause resume resume current paused song resume leave leaf voice channel one leave remove remove specific song queue number queue removequeue display song queue queue shuffle shuffle song queue shuffle skip skip current playing song skip skipall skip song queue skipall skipto skip specific song queue provide song number argument skiptovolume adjust song volume volume 80 musictrivia engage music trivia friend add song trivia pool resourcesmusicmusictriviajson musictrivia loop loop currently playing song loop lyric get lyric song lyric currently playing song lyric songname misc command description usage cat get cute cat picture cat fortune get fortune cookie tip fortune insult generate evil insult insult chucknorris get satirical fact chuck norris chucknorris motivation get random motivational quote motivation globalnews latest headline reuters change news source whatever news source want change source line 13 globalnewsjs ynetnewsjs globalnews random generate random number two provided number random100 reddit replytop non nsfw subreddit post reddit askreddit say make say anything say lorem ipsum translate translate language using yandex translation serviceonly supported lanugages translate whomademe info repo whomademe uptime replytotal uptime uptime gifs command description usage animegif get anime related gif query animegif one punch man gif get gif query gif labrador gintama reply random gintama gif gintama jojo eplies random jojo gif jojo guild command description usage ban ban tagged member ban johndoe createtextchannel creates text channel createtextchannel musicdiscussion createvoicechannel creates new voice channel createvoicechannel music channel kick kick tagged member kick johndoe prune delete 99 recent message prune 50 resource get tenor api key herehttpstenorcomdeveloperkeyregistration get newsapi api key herehttpsnewsapiorg get youtube api keyhttpsdevelopersgooglecomyoutubev3gettingstarted get yandex api key herehttpstranslateyandexcomdeveloperskeys get genius api key herehttpsgeniuscomapiclientsnew installing nodejs debianhttpswwwdigitaloceancomcommunitytutorialshowtosetupanodejsapplicationforproductionondebian9 installing nodejs windowshttpstreehousegithubioinstallationguideswindowsnodewindowshtml contributing fork submit pull request anyone welcome suggest new feature improve code quality contributor encoderglitchhttpsgithubcomencoderglitch uptime command snowclub music discordjsmusic latest discordjs music powerful discord music para env token xxxxxxxx yt api required support server httpsdiscordggakyvjdk make sure check put clientqueue new map main file radio discord discord stream radiohttpsradio discord voice channel command playing get current song playing next get next song queued queue get song currently queued dj get current dj join channel_id join voice channel given channel id start playing stream move channel_id move different voice channel give channel id without restarting stream add youtube_link play linked youtube video video added queue queue empty stream default back radiohttpsradio config configure create json file called configjson putapi key voice channel id file sample config given reference herehttpsgithubcomdr3am5t0rmradiodiscordblobmasterconfigjson todo easy configuration without manually making json file request song contact contact sizhe1007gmailcommailtosizhe1007gmailcom sy35standrewsacukmailtosy35standrewsacuk problem issue anything else hulk_moosic music discord server discordmusic music discord made nodejs requirementnodejs httpsnodejsorgnode module npm installffmpeg path directory httpsffmpegorgtoken httpsdiscordappcomdevelopersapplicationsme getting startedget requirementedit configjs file likingopen terminalcmd type nodeenjoy music use help command help default see command use img alignright srchttpsrawgithubusercontentcommrmotchystuffmainmrmotchygif height300 width300 el musica downloadshttpsimgshieldsiogithubdownloadsjagroshmusictotalsvghttpsdiscordgg9zrznkzen4 starshttpsimgshieldsiogithubstarsjagroshmusicsvghttpsdiscordgg9zrznkzen4 releasehttpsimgshieldsiogithubreleasejagroshmusicsvghttpsdiscordgg9zrznkzen4 licensehttpsimgshieldsiogithublicensejagroshmusicsvghttpsdiscordgg9zrznkzen4 discordhttpsdiscordappcomapiguilds147698382092238848widgetpnghttpsdiscordgg9zrznkzen4br circlecihttpsimgshieldsiocircleciprojectgithubjagroshmusicmastersvghttpsdiscordgg9zrznkzen4 appveyorhttpsciappveyorcomapiprojectsstatusgdu6nyte5psj6xfkbranchmastersvgtruehttpsdiscordgg9zrznkzen4 codefactorhttpswwwcodefactoriorepositorygithubjagroshmusicbadgehttpsdiscordgg9zrznkzen4 setuphttpiimgurcomvvxyp5jpnghttpswwwyoutubecomchannelucmkpzfeajsiuch5kz4abw feature easy run make sure java installed run fast loading song external key needed besides discord token smooth playback serverspecific setup dj role moderate music clean beautiful menu support many site including youtube soundcloud spotify support many online radiostreams support local file playlist support webyoutube local custom server prefix personalized server dashboard httpsgithubcommrmotchystuffblobmain222unbenanntpng high professional discord music made javascript httpsgithubcommrmotchystuffblobmainunbenanntpng installation click herehttpswwwyoutubecomchannelucmkpzfeajsiuch5kz4abw watch youtube video click join discord server httpsdscggdst74 httpsgithubcommrmotchystuffblobmainunben111anntpng music music exploratory experiment thats redundant anything hooking together johnnyfive socketio web audio api install npm install bower install start npm start go well fire server port 3000 fire web browser delight take spin ideally pressing button hardware cause sound created browser hardware forthcoming v13musicwithbuttons advanced discord music version 13 discordjs button developed pranav discord music setupdiscord token token prefix prefix activity activity token token available discord developershttpsdiscordappcomdevelopersapplications section prefix prefix set use activity activity misaki new entertainment idiot discordhttpsdiscordappcomapiguilds396331425621868554embedpnghttpsdiscordggrasxyyt travishttpstravisciorgnotaweebdevmisakisvghttpstravisciorgnotaweebdevmisaki patreonhttpsimgshieldsiobadgedonatepatreonf96854svghttpswwwpatreoncommisaki inviting guild add misaki guild click herehttpsdiscordappcomapioauth2authorizeclient_id396323622953680910permissions268755008scope discord shttpsdiscordsorgapiwidget396323622953680910svghttpsdiscordsorg396323622953680910discordhttpssfordiscordcomapi396323622953680910widgethttpssfordiscordcom396323622953680910 discord listhttpsdiscordlistcoms396323622953680910widgethttpsdiscordlistcoms396323622953680910 httpsmediadiscordappnetattachments87284113073833171787814495604323946420210820_104406_0000png discordmusic foxymusic config prefix prefix token token queue_limitcolor random support serverhttpsdiscordggb4qdfwcw6k join discord server support serverhttpsdiscordggb4qdfwcw6k run project remix glitchhttpscdnglitchcom2703baf2b6434da7ab917ee2a2d00b5b2fremixbuttonsvghttpsglitchcomeditimportgithubromilchavdafoxymusic run replithttpsreplitbadgegithubromilchavdafoxymusichttpsreplitgithubromilchavdafoxymusic beepboop beepboop sound new steam chat connects group chat voice channel play sound run heroku free plan feature play chromium supported audio format support playing youtube link also support search play plugin search play sound myinstantscomhttpswwwmyinstantscom plugin multiple user welcome leave sound randomly play one member steam group chat upload sound chat command installation prerequisities nodejshttpsnodejsorg chromechromium playing nonfree codecs probably want need provide chrome chromium browser proper codecs support window use regular chrome installation linux install chromiumbrowser chromiumcodecsffmpegextra package debianubuntu distros equivalent herokuhttpswwwherokucom use puppeteer buildpackhttpsgithubcomjontewkspuppeteerherokubuildpack disable node_modules cache heroku configset node_modules_cachefalse ytdl package kept date optional postgresql databasehttpswwwpostgresqlorg skip without wont able upload sound limited playing youtube myinstants configuring puppeteer environment variable note look like chromium without extra code fine try skip step need set path chromechromium want use otherwise chromium without extra codecs automatically downloaded used setting puppeteer environment variableshttpspptrdevproductpuppeteerversionv800showapienvironmentvariables example puppeteer_skip_chromium_download puppeteer_executable_pathcprogram file x86googlechromeapplicationchromeexe heroku build pack set beepboops configuration beepboop need steam login credential account create new account steam without steam guard limited steam account sufficient configuration put configjson file project root environment variable config also specify path config file configfile path argument environment variable configfile example config json baseurl httpbeepboopexamplecom port 8080 steam username beepboop password sup3rh4rdc0r3ps5w0rd groupname testy mc test face channelname voicey mc voice face db connection postgresbeepboopbeepbooplocalhostbeepboop plugins myinstants youtubesearch ttsurl httpsexamplecomtexttospeechlangenkeyxxxxxxtext volume 015 explanation option option description baseurl url web interface accessed httplocalhost8080 running locally port port web server heroku automaticaly set environment variable exclude heroku steamusername steampassword create new steam account httpsstoresteampoweredcomjoin steamgroupname name steam group chat see pictureaccount member group chat steamchannelname name voice channel steam group chat see picture dbconnection connection string postgresql database dbms supported volume reason beepboop incredibly loud recommend set volume 04 ttsurl provide url text speech need url text appended end responds audio steam group chathttpsiimgurcomsh6rmgupng run ready install npm dependency npm install start beepboop npm run start instalation requires nodejshttpsnodejsorg heroku use puppeteer buildpackhttpsgithubcomtypekczpuppeteerherokubuildpack configured npm install npm run start usage join voice room someone leave alone steam doesnt like long idling empty room web interface open web interface browser see probably httplocalhost8080 running locally chat command chat command sent steam chat room access command startname handle example beepboop play engineerremix also send direct message doesnt require name handle send direct message even friend click group member list command description play sound play uploaded sound matching nameplayurl httpexamplecomlinktosoundmp3 play passed url support youtube url instant get da choppa search sound myinstantscomhttpswwwmyinstantscom play first result want another result append followed number result want play youtube dramatic chipmunk search video youtube play first one append number play specific result like instant command stop stop whatever playing pause thing stop play without argument resume playing stoppedpaused sound beep boop eval 321sort safely run javascript code dont ask known issue wrong sometimes logged steam weird nonfunctioning state restartaccount voice chat ban couldnt join voice chat account machine working eventually disappeared changed leave room empty keep mind valve thingtechnically allowed steam usually tolerated languagehttpsimgshieldsiobadgelanguagenodejsyellowsvgstyleflatsquare downloadshttpsimgshieldsiobadgedownloads279bluesvgstyleflatsquare languagehttpsimgshieldsiobadge4greensvgstylesocial music __a discord music host play song server__ music created simplicity music host server going need install discordjs ffmpeg ytdlcore happen face bug something working right comment issue saying nb asistan discord button feature music player use create basic nodejs app install dependency register slash command guild client id learn morehttpsdiscordjsguideinteractionsregisteringslashcommandshtml change token thing configjson start see started message console take deep breath type play musicplayer start using requirement node 166 higher discordjs discordjsbuilders discordjsopus discordjsrest discordjsvoice foundation koenie06discordjsmusic simple music command ytsearch youtube searching nodemon optional developing comfortable forever optional auto restart crash preview previewgif short featuremusicfiltermessagebuttondatabaseeasy use support sourceyoutubesoundcloudspotify problem join discord nanospace httpsdiscordggsng3dh3mbr mention chat general javascript ask problem okay requirement nodejs downloadhttpsnodejsorgdistv1701nodev1701x64msi discord token guidehttpsdiscordjsguidepreparationssettingupaapplicationhtmlcreatingyour installation git clone httpsgithubcomadivisedisspacex cd disspacex npm install installation finish use node start run startbat configuration copy rename envexample env fill value env tokenreplace_on_here prefix owner_idreplace_on_here feature command note default prefix music command play playpplay autoplay autoplay ap lyric lyric playskip playskip replay replay previous previous nowplaying nowplaying np queue queueloop looploopqueue loopqueue lq shuffle shuffle volume control vol pause pause pa resume resume skip skip skipto skipto st join join cmon summon leave leave dc lev stop filter command vaporwave vaporwave vw earwax earwax nightcore nightcore nc 3d 3d echo echo flanger flanger fg gate gate haas ha karaoke kk karaoke mcopand mp mcopand phaser phaser reverse reverse surround sr surround tremolo tremolo bassboost bb bassboost reset reset utility command filterlist fl filterlist help helphalp command invite invite restart restart stop shutdown picture old click mehttpsimgurcomazvp3nii seehttpsiimgurcom03km8sqpng seehttpsiimgurcomlr4whgxpng seehttpsiimgurcomuv1jx4fpng seehttpsiimgurcomcqkhn2apng seehttpsiimgurcomsbkzxnbpng seehttpsiimgurcom4ggixyzpng seehttpsiimgurcomporamnppng img width150 height150 alignleft stylefloat left margin10px 10pxaltcrucian srchttpsimgurcomqvreqznpng crucian languagehttpsimgshieldsiobadgelanguagenodejsredstyleforthebadgelogonodejsnodejs gpl licensehttpsimgshieldsiobadgelicensegplbluestyleforthebadgelogogithublicense repo sizehttpsimgshieldsiogithublanguagescodesizexcrypt0rcrucianstyleforthebadgelabelsizelogogithub codacy branch gradehttpsimgshieldsiocodacygradea3f21df5a2c84e789dc94b0c66ce5aacmasterstyleforthebadgelabelqualitylogocodacycodacy build statushttpsimgshieldsiotravisxcrypt0rcrucianmasterstyleforthebadgelogotravistravis discordhttpsimgshieldsiodiscord374188444433252363color7289dalabeldiscordlogodiscordlogocolorwhitestyleforthebadgemy server crucian discord simple structure based discordjshttpsgithubcomdiscordjsdiscordjs click herehttpsdiscordappcomapioauth2authorizeclient_id508679069571743746permissions8scope invite crucian server author crucian xcrypt0r authored maintained xcryptor github xcrypt0rmy github discord xcrypt0r5695 feature economy music moderation fun requirement node 12 supported language koreandefault english install check setupmddocssetupmd trouble hosting come servermy server command check commandsmddocscommandsmd special thanks intelliraccoondoghttpsgithubcomintelliraccoondog nodejs httpsnodejsorgenabout codacy httpsappcodacycommanualfireinthehollcruciandashboard travis httpstravisciorgxcrypt0rcrucian server httpsdiscordgg35y8epx github httpsgithubcomxcrypt0r advancediscordlavalinkmusicwithspotify need hosting host minecraft server discord server 247 recommend using httpsfuturehostingorg provide 247 server hosting best performance affordable price discount also 247 support discord site site httpsfuturehostingorg discord httpsdiscordggdnme6pzfqb order discord server httpsbillingfuturehostingorgindexphprpstorediscordvoicehosting credit tomatohttpsgithubcomtomato6966 reacting system message great idea adopted tomato6966lava musichttpsgithubcomtomato6966discordjslavalinkmusicerelajs thanks tomato6966 check tomato6966 gtihub repo music created 0_06666 updated thursday 3rd june 2021 library version v1253 node version 12x higher code version v170 update log stay vc 247 unless disconnect command executed 247 host required added thumbnail image play playing command updated dependency squashed bug worked common error increased highwatermark better ytdl stream quality _to set please head configjson paste token along youtube api key_ fully customisable join support serverhttpsdiscordggaru4hr6hjw support question _read_ configjs change variable color variable embed color everything else self eplainatory change value inside make function properly youtube channel httpswwwyoutubecomczerosync note dy dont use everyminute easily rehosted regenerating token repplacing want script prevents join server dm 0_06666 might get project suspended always make new one using tutorial appmakerparana direeitos reservados developersbr direeitos reservados aoijs criado por vitorhttpbrasilmodenycityga direitos reservados appmakerparanahttpbrasilmodenycityga quando copiar nao apagarcreditos oque voce precisadiscord token acesse discord developer portalhttpsdiscordcomdevelopersapplicationscopie elenodejs v1200 h1 aligncenter siruh1 branch master legacy work correctly working branch nexthttpsgithubcomsirusirutreenext archive still using congrats know update stuff otherwise code serve use people looking free host instantly one discordjs v11 hopefully know thats good year outdated jsmusic deploy link heroku deployhttpswwwherokucdncomdeploybuttonsvghttpsherokucomdeploytemplatehttpsgithubcomrhgdevjsmusic replit deployhttpsreplitbadgegithubrhgdevjsmusichttpsreplitgithubrhgdevjsmusic feature almost anything musci wise lookup song make choice take song playlist add take youtube url play simple control like skip stop requirementdiscord token guidehttpsdiscordjsguidepreparationssettingupaapplicationhtmlcreatingyouryoutube data api v3 key guidehttpsdevelopersgooglecomyoutubev3gettingstartednodejs v1200 newer getting started file need simply push heroku make config var setting config var wanna run raspberry pi configjsonexample file simple rename configjson config var token used login discord application guidehttpsdiscordjsguidepreparationssettingupaapplicationhtmlcreatingyour ytapikey used search youtube videosongs guidehttpsdevelopersgooglecomyoutubev3gettingstarted prefix anything prefix ex mbplay mb prefix pass increased reduce packetloss expense upload bandwidth 45 lossless expense 45x upload best music advance stable music feature poru wrapper based music client rich audio quality music inbuilt audio filter 100 compatible lavalink easy use setup 247 support team donation donating herehttpskoficomparasdev configration enter token env file token variableprefix owneryour discord id node namenode_1 hostlocalhost lavalink host port 2333 lavalink port password youshallnotpass lavalink pas need help need help feel free join support serverhttpsdiscordggb3k6xna5pw note supportgiving star reposity following parashttpsgithubcomparasop donating herehttpskoficomparasdev discordmusic free opensource music codacy badgehttpsapicodacycomprojectbadgegradeacfade556d964f43adda3ac0288d3ff6httpswwwcodacycomappmaxsteel91devdiscordmusicutm_sourcegithubcomamputm_mediumreferralamputm_contentmaxsteel91devdiscordmusicamputm_campaignbadge_grade use code please put github template githubcommaxsteel91devdiscordmusic mimi music built discordjsmusicaddonhttpsgithubcomdarkopendragondiscordjsmusicaddon people use server private people want get creating here example addon repo httpsgithubcomdarkopendragondiscordjsmusicaddonblobmasterexamplesexamplesmd feature play queue songplaylist url name remove remove song queue position queue help help command skip skip song song skip number leave leaf voice channel search search 10 video youtube pause pause playing music resume resume paused queue volume change volume output queue view current queue loop set loop state queue clear clear entire queue np show playing text running first make sure nodejshttpsnodejsorgen installed machine edit config file located srcconfigjson credential token httpsdiscordappcomdevelopersapplications prefix prefix api youtube api key httpsconsoledevelopersgooglecom ownerid user id colour hex colour musicrole role anyone use every music command admins admin id separated comma defaultvolume default playback volume run following order installbat install dependency startbat make sure run installing dependency edited configjson start reason youre trouble installing dependency following terminal directory npm discordjs npm nodeopus npm discordjsmusicaddon npm ffmpegbinaries discordmusic maindiscordjsv1253 v12 v13issuepr nodejs 16130 osx64 ubuntu 2004 x64 windows11 discordjsvoice discordjsopus ffmpegstatic ytdlcoreytsearchytpl tweetnacl music discord music coded free time month lot code missing due including everything try dowload run work code reference wish dm discord user pineappleturnovers3910 id 696438967351902298 music free music discordjs v13 slash command button made nishant majumdar issue httpsdiscordgghvhj6yd5hn join support setcoding experience requiredb stepclone repository using command git clone httpsgithubcomnishantmajumdarmusic stepfill detail iconfigjsoni steptype npm install install required file steptype npm start start yes easy use configjson bhere need fill howb json token token token required clientid 874622143562915870 application id optional guildid 871002699221581874default server id required ownerid 735739881741090879 id required needed show created 11 status animated change every 10 second customize wish required status1 music status2 many command status3 easy use status4 high quality status5 invite status6 help status7 free amazing status8 best ever 2022 status9 filter status10premium music status11 button control status12 nishant specify channel id channel message log every time join new server guildjoinlog 895522356355805195 hosting replithost replit need stepsb click httpsreplitcomgithubnishantmajumdar2music ol litype bnpm run nodeupdateb consoleli lithen click run button start li ol note bug may occur join support server brbr tutorial httpswwwyoutubecomwatchv5i1p2fymmgmt123s mvideo thumbnailhttpsiibbco3srrrw4template1png tutorial video proximity discord multipurpose discord image search ai image recognition music player designed hosted heroku right play song search image convert text speech recognize classify image requires ibm cloud account use ibm watson environment variable config var configure heroku prefix command prefix usually example token unique discord api tokenaccount watson_key unique ibm api key ibm cloud watson_url url ibm cloud api key giphykey unique giphy api key youtubekey unique youtube api key ownerid discord id one made entirely number genius_key unique genius api key heroku buildpacks ffmpeg buildback httpsgithubcomjonathanongherokubuildpackffmpeglatestgit official nodejs buildpack herokunodejs command prefixplay song play song youtube prefixanalyze image attachment added image caption trigger image recognitnion prefixstop stop playback prefixskip skip next song queue prefiximage search term display image related search term prefixbruh display bruh gif prefixtts language accent text convert text script audio prefixgif search term display gif related search term prefixlyrics search term search display lyric geniuscom prefixkick memeber kick member prefixban member ban member language accent en jp ru etc deploy version heroku account better order stuff discord get discord account duh create application profile add server look youtube find tough give permission connect speak send message manage message authorization stuff keep copytoken privately stuff ibm cloud create account create visual recognition resource lite free plan enough find api key url resource detail keep copy privately stuff heroku fork repo deploy heroku must see building application log overview manually deploy start worker dyno npm start overview web dyno switch randomly better keep pro tip keep eye application log heroku find problem heroku give 450 free hour month simply adding credit card detail give extra 550 hour visual recognition feature work image uploaded user server work link ibm visual recognition service deletes inactive month h1 aligncenterdiscord music professionalh1 div aligncenteraligncenterthanks 5k view v1 enjoy v2p img srcmediabannergifdiv tutorial img width20px srchttpsimgicons8comfluent2xyoutubeplaypng click mehttpswwwyoutubecomwatchv8wopom4598q watch video contact img width30 srchttpsimgicons8comfluent2xdiscordlogopng nithish6593 img width30 srchttpsimgicons8comfluent2xinstagramnewpng nithish_codez showcase img width20px srchttpsimgicons8comandroid2xcamerapngaligncenterimg srchttpsnithishisinsidemewahyjaxgpngpaligncenterimg srchttpsnithishisinsidemeonkw13xwpngpaligncenterimg srchttpsnithishisinsidemex8rjl5q2pngpaligncenterimg srchttpsnithishisinsidemeadf7opxypngp many credit always queue system partially adapted icrawlshttpsgithubcomicrawl musicrepohttpsgithubcomicrawldiscordmusic welcome glitch click show header see app live update code instantly deploy update live glitch friendly community youll build app dream glitch let instantly create remix edit host app site invite collaborator helper simultaneously edit code find glitchhttpsglitchcomabout project frontend edit publicclientjs publicstylecss viewsindexhtml drag asset like image music add project backend app start serverjs add framework package packagejson safely store app secret env nobody see people invite made glitchhttpsglitchcom'"
      ]
     },
     "execution_count": 9,
     "metadata": {},
     "output_type": "execute_result"
    }
   ],
   "source": [
    "js_words"
   ]
  },
  {
   "cell_type": "code",
   "execution_count": 10,
   "id": "936aa887",
   "metadata": {},
   "outputs": [
    {
     "data": {
      "text/plain": [
       "music      85\n",
       "discord    66\n",
       "song       60\n",
       "command    57\n",
       "play       48\n",
       "dtype: int64"
      ]
     },
     "execution_count": 10,
     "metadata": {},
     "output_type": "execute_result"
    }
   ],
   "source": [
    "# returns the frequency of top words by each language\n",
    "\n",
    "js_freq = pd.Series(js_words.split()).value_counts()\n",
    "python_freq = pd.Series(python_words.split()).value_counts()\n",
    "j_freq = pd.Series(j_words.split()).value_counts()\n",
    "ts_freq = pd.Series(ts_words.split()).value_counts()\n",
    "go_freq = pd.Series(go_words.split()).value_counts()\n",
    "kotlin_freq = pd.Series(kotlin_words.split()).value_counts()\n",
    "\n",
    "js_freq.head()"
   ]
  },
  {
   "cell_type": "code",
   "execution_count": 24,
   "id": "8347b49b",
   "metadata": {},
   "outputs": [
    {
     "data": {
      "text/html": [
       "<div>\n",
       "<style scoped>\n",
       "    .dataframe tbody tr th:only-of-type {\n",
       "        vertical-align: middle;\n",
       "    }\n",
       "\n",
       "    .dataframe tbody tr th {\n",
       "        vertical-align: top;\n",
       "    }\n",
       "\n",
       "    .dataframe thead th {\n",
       "        text-align: right;\n",
       "    }\n",
       "</style>\n",
       "<table border=\"1\" class=\"dataframe\">\n",
       "  <thead>\n",
       "    <tr style=\"text-align: right;\">\n",
       "      <th></th>\n",
       "      <th>JavaScript</th>\n",
       "      <th>Python</th>\n",
       "      <th>Java</th>\n",
       "      <th>TypeScript</th>\n",
       "      <th>Go</th>\n",
       "      <th>Kotlin</th>\n",
       "      <th>all</th>\n",
       "    </tr>\n",
       "  </thead>\n",
       "  <tbody>\n",
       "    <tr>\n",
       "      <th>music</th>\n",
       "      <td>85</td>\n",
       "      <td>313</td>\n",
       "      <td>21</td>\n",
       "      <td>21</td>\n",
       "      <td>16</td>\n",
       "      <td>10</td>\n",
       "      <td>466</td>\n",
       "    </tr>\n",
       "    <tr>\n",
       "      <th>song</th>\n",
       "      <td>60</td>\n",
       "      <td>115</td>\n",
       "      <td>7</td>\n",
       "      <td>10</td>\n",
       "      <td>8</td>\n",
       "      <td>12</td>\n",
       "      <td>212</td>\n",
       "    </tr>\n",
       "    <tr>\n",
       "      <th>play</th>\n",
       "      <td>48</td>\n",
       "      <td>84</td>\n",
       "      <td>3</td>\n",
       "      <td>7</td>\n",
       "      <td>19</td>\n",
       "      <td>9</td>\n",
       "      <td>170</td>\n",
       "    </tr>\n",
       "    <tr>\n",
       "      <th>command</th>\n",
       "      <td>57</td>\n",
       "      <td>59</td>\n",
       "      <td>13</td>\n",
       "      <td>19</td>\n",
       "      <td>11</td>\n",
       "      <td>11</td>\n",
       "      <td>170</td>\n",
       "    </tr>\n",
       "    <tr>\n",
       "      <th>text</th>\n",
       "      <td>7</td>\n",
       "      <td>139</td>\n",
       "      <td>5</td>\n",
       "      <td>1</td>\n",
       "      <td>1</td>\n",
       "      <td>1</td>\n",
       "      <td>154</td>\n",
       "    </tr>\n",
       "    <tr>\n",
       "      <th>discord</th>\n",
       "      <td>66</td>\n",
       "      <td>35</td>\n",
       "      <td>26</td>\n",
       "      <td>20</td>\n",
       "      <td>5</td>\n",
       "      <td>2</td>\n",
       "      <td>154</td>\n",
       "    </tr>\n",
       "    <tr>\n",
       "      <th>option</th>\n",
       "      <td>5</td>\n",
       "      <td>132</td>\n",
       "      <td>0</td>\n",
       "      <td>0</td>\n",
       "      <td>3</td>\n",
       "      <td>1</td>\n",
       "      <td>141</td>\n",
       "    </tr>\n",
       "    <tr>\n",
       "      <th>spotify</th>\n",
       "      <td>4</td>\n",
       "      <td>101</td>\n",
       "      <td>1</td>\n",
       "      <td>3</td>\n",
       "      <td>6</td>\n",
       "      <td>16</td>\n",
       "      <td>131</td>\n",
       "    </tr>\n",
       "    <tr>\n",
       "      <th>youtube</th>\n",
       "      <td>35</td>\n",
       "      <td>50</td>\n",
       "      <td>17</td>\n",
       "      <td>7</td>\n",
       "      <td>11</td>\n",
       "      <td>9</td>\n",
       "      <td>129</td>\n",
       "    </tr>\n",
       "    <tr>\n",
       "      <th>file</th>\n",
       "      <td>22</td>\n",
       "      <td>81</td>\n",
       "      <td>8</td>\n",
       "      <td>8</td>\n",
       "      <td>6</td>\n",
       "      <td>2</td>\n",
       "      <td>127</td>\n",
       "    </tr>\n",
       "    <tr>\n",
       "      <th>support</th>\n",
       "      <td>28</td>\n",
       "      <td>31</td>\n",
       "      <td>18</td>\n",
       "      <td>9</td>\n",
       "      <td>7</td>\n",
       "      <td>11</td>\n",
       "      <td>104</td>\n",
       "    </tr>\n",
       "    <tr>\n",
       "      <th>default</th>\n",
       "      <td>8</td>\n",
       "      <td>81</td>\n",
       "      <td>4</td>\n",
       "      <td>10</td>\n",
       "      <td>0</td>\n",
       "      <td>0</td>\n",
       "      <td>103</td>\n",
       "    </tr>\n",
       "    <tr>\n",
       "      <th>run</th>\n",
       "      <td>29</td>\n",
       "      <td>29</td>\n",
       "      <td>7</td>\n",
       "      <td>21</td>\n",
       "      <td>9</td>\n",
       "      <td>2</td>\n",
       "      <td>97</td>\n",
       "    </tr>\n",
       "    <tr>\n",
       "      <th>queue</th>\n",
       "      <td>39</td>\n",
       "      <td>28</td>\n",
       "      <td>6</td>\n",
       "      <td>5</td>\n",
       "      <td>5</td>\n",
       "      <td>8</td>\n",
       "      <td>91</td>\n",
       "    </tr>\n",
       "    <tr>\n",
       "      <th>playlist</th>\n",
       "      <td>20</td>\n",
       "      <td>43</td>\n",
       "      <td>5</td>\n",
       "      <td>5</td>\n",
       "      <td>11</td>\n",
       "      <td>3</td>\n",
       "      <td>87</td>\n",
       "    </tr>\n",
       "    <tr>\n",
       "      <th>img</th>\n",
       "      <td>16</td>\n",
       "      <td>20</td>\n",
       "      <td>6</td>\n",
       "      <td>36</td>\n",
       "      <td>1</td>\n",
       "      <td>7</td>\n",
       "      <td>86</td>\n",
       "    </tr>\n",
       "    <tr>\n",
       "      <th>token</th>\n",
       "      <td>39</td>\n",
       "      <td>25</td>\n",
       "      <td>6</td>\n",
       "      <td>7</td>\n",
       "      <td>8</td>\n",
       "      <td>0</td>\n",
       "      <td>85</td>\n",
       "    </tr>\n",
       "    <tr>\n",
       "      <th>show</th>\n",
       "      <td>6</td>\n",
       "      <td>72</td>\n",
       "      <td>1</td>\n",
       "      <td>3</td>\n",
       "      <td>3</td>\n",
       "      <td>0</td>\n",
       "      <td>85</td>\n",
       "    </tr>\n",
       "    <tr>\n",
       "      <th>install</th>\n",
       "      <td>27</td>\n",
       "      <td>33</td>\n",
       "      <td>5</td>\n",
       "      <td>12</td>\n",
       "      <td>4</td>\n",
       "      <td>1</td>\n",
       "      <td>82</td>\n",
       "    </tr>\n",
       "    <tr>\n",
       "      <th>get</th>\n",
       "      <td>29</td>\n",
       "      <td>38</td>\n",
       "      <td>3</td>\n",
       "      <td>4</td>\n",
       "      <td>5</td>\n",
       "      <td>3</td>\n",
       "      <td>82</td>\n",
       "    </tr>\n",
       "  </tbody>\n",
       "</table>\n",
       "</div>"
      ],
      "text/plain": [
       "          JavaScript  Python  Java  TypeScript  Go  Kotlin  all\n",
       "music             85     313    21          21  16      10  466\n",
       "song              60     115     7          10   8      12  212\n",
       "play              48      84     3           7  19       9  170\n",
       "command           57      59    13          19  11      11  170\n",
       "text               7     139     5           1   1       1  154\n",
       "discord           66      35    26          20   5       2  154\n",
       "option             5     132     0           0   3       1  141\n",
       "spotify            4     101     1           3   6      16  131\n",
       "youtube           35      50    17           7  11       9  129\n",
       "file              22      81     8           8   6       2  127\n",
       "support           28      31    18           9   7      11  104\n",
       "default            8      81     4          10   0       0  103\n",
       "run               29      29     7          21   9       2   97\n",
       "queue             39      28     6           5   5       8   91\n",
       "playlist          20      43     5           5  11       3   87\n",
       "img               16      20     6          36   1       7   86\n",
       "token             39      25     6           7   8       0   85\n",
       "show               6      72     1           3   3       0   85\n",
       "install           27      33     5          12   4       1   82\n",
       "get               29      38     3           4   5       3   82"
      ]
     },
     "execution_count": 24,
     "metadata": {},
     "output_type": "execute_result"
    }
   ],
   "source": [
    "word_counts = (pd.concat([js_freq, python_freq, j_freq, ts_freq, go_freq, kotlin_freq], axis=1, sort=True)\n",
    "               .set_axis(['JavaScript', 'Python', 'Java', 'TypeScript', 'Go', 'Kotlin'], axis=1, inplace=False)\n",
    "               .fillna(0)\n",
    "               .apply(lambda s: s.astype(int))\n",
    "              )\n",
    "\n",
    "word_counts['all'] = word_counts['JavaScript'] + word_counts['Python'] + word_counts['Java'] + word_counts['TypeScript'] + word_counts['Go'] + word_counts['Kotlin']\n",
    "word_counts.sort_values(by=\"all\", ascending = False).head(20)"
   ]
  },
  {
   "cell_type": "code",
   "execution_count": 22,
   "id": "58e66be9",
   "metadata": {},
   "outputs": [
    {
     "data": {
      "text/plain": [
       "<matplotlib.legend.Legend at 0x7fbf03482fa0>"
      ]
     },
     "execution_count": 22,
     "metadata": {},
     "output_type": "execute_result"
    },
    {
     "data": {
      "image/png": "[encoded data removed]",
      "text/plain": [
       "<Figure size 720x360 with 1 Axes>"
      ]
     },
     "metadata": {
      "needs_background": "light"
     },
     "output_type": "display_data"
    }
   ],
   "source": [
    "# visualize the percentage of the terms\n",
    "colors = sns.color_palette(\"pastel\")\n",
    "cmap1 = LinearSegmentedColormap.from_list(\"my_colormap\", colors)\n",
    "(word_counts.assign(p_JavaScript = word_counts.JavaScript/word_counts['all'], \n",
    "                   p_Python = word_counts.Python/word_counts['all'],\n",
    "                    p_Java = word_counts.Java/word_counts['all'],\n",
    "                    p_TypeScript = word_counts.TypeScript/word_counts['all'],\n",
    "                    p_Go = word_counts.Go/word_counts['all'],\n",
    "                    p_Kotlin = word_counts.Kotlin/word_counts['all'])\n",
    " .sort_values(by='all')[['p_JavaScript', 'p_Python', 'p_Java', 'p_TypeScript', 'p_Go', 'p_Kotlin']]\n",
    " .tail(20)\n",
    " .sort_values('p_JavaScript')\n",
    " .plot.barh(stacked=True, colormap=cmap1)\n",
    "            #=['#BBE5ED','#BFBCCB','#B3AA92','#7FD189','#FFF1D6','#A5A5A5'])\n",
    ")\n",
    "\n",
    "plt.title(\"Proportion of Languages for the 20 most common words in our text sample\")\n",
    "plt.legend(loc = 2, bbox_to_anchor = (1,1), title='Language Proportion')\n"
   ]
  },
  {
   "cell_type": "code",
   "execution_count": 20,
   "id": "4128d0ad",
   "metadata": {},
   "outputs": [
    {
     "data": {
      "text/plain": [
       "<Figure size 720x360 with 0 Axes>"
      ]
     },
     "metadata": {},
     "output_type": "display_data"
    },
    {
     "data": {
      "image/png": "[encoded data removed]",
      "text/plain": [
       "<Figure size 720x360 with 1 Axes>"
      ]
     },
     "metadata": {
      "needs_background": "light"
     },
     "output_type": "display_data"
    }
   ],
   "source": [
    "for i, predictor in enumerate(train.drop(columns=['lemmatized','stemmed','clean',\n",
    "                                                  'readme_contents','repo','text_length'])):\n",
    "    plt.figure(i)\n",
    "    ax = plt.subplots(figsize=(10, 5))\n",
    "    plt.title(\"Count of Readme Lengths by Programming Language\")\n",
    "    hue_order = ['JavaScript', 'Python', 'TypeScript', 'Java', 'Kotlin', 'Go']\n",
    "    sns.countplot(data=train, x=predictor, hue='language', palette=\"pastel\", hue_order=hue_order, \n",
    "              order = train['language'].value_counts().index)\n",
    "#ax = plt.subplots(figsize=(15, 5))    "
   ]
  },
  {
   "cell_type": "code",
   "execution_count": 14,
   "id": "58181295",
   "metadata": {},
   "outputs": [
    {
     "data": {
      "text/plain": [
       "[<matplotlib.lines.Line2D at 0x7fbf03539430>]"
      ]
     },
     "execution_count": 14,
     "metadata": {},
     "output_type": "execute_result"
    },
    {
     "data": {
      "image/png": "[encoded data removed]",
      "text/plain": [
       "<Figure size 432x288 with 1 Axes>"
      ]
     },
     "metadata": {
      "needs_background": "light"
     },
     "output_type": "display_data"
    }
   ],
   "source": [
    "plt.plot(train['language'].value_counts().sort_index())"
   ]
  },
  {
   "cell_type": "code",
   "execution_count": 15,
   "id": "38b2300a",
   "metadata": {},
   "outputs": [
    {
     "data": {
      "text/html": [
       "<div>\n",
       "<style scoped>\n",
       "    .dataframe tbody tr th:only-of-type {\n",
       "        vertical-align: middle;\n",
       "    }\n",
       "\n",
       "    .dataframe tbody tr th {\n",
       "        vertical-align: top;\n",
       "    }\n",
       "\n",
       "    .dataframe thead th {\n",
       "        text-align: right;\n",
       "    }\n",
       "</style>\n",
       "<table border=\"1\" class=\"dataframe\">\n",
       "  <thead>\n",
       "    <tr style=\"text-align: right;\">\n",
       "      <th></th>\n",
       "      <th>language</th>\n",
       "      <th>count</th>\n",
       "    </tr>\n",
       "  </thead>\n",
       "  <tbody>\n",
       "    <tr>\n",
       "      <th>0</th>\n",
       "      <td>Go</td>\n",
       "      <td>5</td>\n",
       "    </tr>\n",
       "    <tr>\n",
       "      <th>1</th>\n",
       "      <td>Java</td>\n",
       "      <td>9</td>\n",
       "    </tr>\n",
       "    <tr>\n",
       "      <th>2</th>\n",
       "      <td>JavaScript</td>\n",
       "      <td>54</td>\n",
       "    </tr>\n",
       "    <tr>\n",
       "      <th>3</th>\n",
       "      <td>Kotlin</td>\n",
       "      <td>5</td>\n",
       "    </tr>\n",
       "    <tr>\n",
       "      <th>4</th>\n",
       "      <td>Python</td>\n",
       "      <td>46</td>\n",
       "    </tr>\n",
       "    <tr>\n",
       "      <th>5</th>\n",
       "      <td>TypeScript</td>\n",
       "      <td>9</td>\n",
       "    </tr>\n",
       "  </tbody>\n",
       "</table>\n",
       "</div>"
      ],
      "text/plain": [
       "     language   count\n",
       "0          Go       5\n",
       "1        Java       9\n",
       "2  JavaScript      54\n",
       "3      Kotlin       5\n",
       "4      Python      46\n",
       "5  TypeScript       9"
      ]
     },
     "execution_count": 15,
     "metadata": {},
     "output_type": "execute_result"
    }
   ],
   "source": [
    "summary = (\n",
    "    train\n",
    "    .groupby('language')\n",
    "    .filter(lambda x : len(x) > 1)\n",
    "    .groupby(['language'])\n",
    "    .size()\n",
    "    .to_frame(' count')\n",
    "    .reset_index()\n",
    ")\n",
    "\n",
    "summary"
   ]
  },
  {
   "cell_type": "code",
   "execution_count": 16,
   "id": "6baa5464",
   "metadata": {},
   "outputs": [
    {
     "data": {
      "text/plain": [
       "language    object\n",
       " count       int64\n",
       "dtype: object"
      ]
     },
     "execution_count": 16,
     "metadata": {},
     "output_type": "execute_result"
    }
   ],
   "source": [
    "summary.dtypes"
   ]
  },
  {
   "cell_type": "code",
   "execution_count": 17,
   "id": "65949d6b",
   "metadata": {},
   "outputs": [
    {
     "data": {
      "image/png": "[encoded data removed]",
      "text/plain": [
       "<Figure size 432x288 with 1 Axes>"
      ]
     },
     "metadata": {
      "needs_background": "light"
     },
     "output_type": "display_data"
    }
   ],
   "source": [
    "#plots the mean of Readme lengths by programming language\n",
    "\n",
    "df.groupby(['language']).text_length.mean().sort_values(ascending = False).plot.bar(\n",
    "                                                                                    color=['#BBE5ED','#BFBCCB',\n",
    "                                                                                    '#B3AA92','#7FD189',\n",
    "                                                                                    '#FFF1D6','#A5A5A5'])\n",
    "\n",
    "#inputs the chart title\n",
    "plt.title(\"Mean of Readme Lengths by Programming Language\")\n",
    "#sets the size of the chart\n",
    "plt.rcParams[\"figure.figsize\"] = (10, 5)"
   ]
  },
  {
   "cell_type": "markdown",
   "id": "fa0d0741",
   "metadata": {},
   "source": [
    "<hr style=\"border-top: 10px groove red; margin-top: 1px; margin-bottom: 1px\"></hr>"
   ]
  },
  {
   "cell_type": "code",
   "execution_count": 18,
   "id": "12d4ce2d",
   "metadata": {},
   "outputs": [],
   "source": [
    "#next modeling"
   ]
  },
  {
   "cell_type": "code",
   "execution_count": 31,
   "id": "c3978a49",
   "metadata": {},
   "outputs": [
    {
     "data": {
      "text/plain": [
       "<matplotlib.legend.Legend at 0x7fbed0c4f490>"
      ]
     },
     "execution_count": 31,
     "metadata": {},
     "output_type": "execute_result"
    },
    {
     "data": {
      "image/png": "[encoded data removed]",
      "text/plain": [
       "<Figure size 720x360 with 1 Axes>"
      ]
     },
     "metadata": {
      "needs_background": "light"
     },
     "output_type": "display_data"
    }
   ],
   "source": [
    "# visualize the percentage of the words by JavaScript\n",
    "\n",
    "(word_counts.assign(p_JavaScript = word_counts.JavaScript/word_counts['all'])\n",
    " .sort_values(by='all')[['p_JavaScript']]\n",
    " .tail(20)\n",
    " .sort_values('p_JavaScript')\n",
    " .plot.barh(stacked=True, color=['#BBE5ED','#BFBCCB','#B3AA92','#7FD189','#FFF1D6','#A5A5A5'])\n",
    ")\n",
    "\n",
    "plt.title(\"Proportion of Languages for the 20 most common words in our text sample\")\n",
    "plt.legend(loc = 2, bbox_to_anchor = (1,1), title='Language Proportion')"
   ]
  },
  {
   "cell_type": "code",
   "execution_count": 32,
   "id": "43352b24",
   "metadata": {},
   "outputs": [
    {
     "data": {
      "text/plain": [
       "<matplotlib.legend.Legend at 0x7fbf10877130>"
      ]
     },
     "execution_count": 32,
     "metadata": {},
     "output_type": "execute_result"
    },
    {
     "data": {
      "image/png": "[encoded data removed]",
      "text/plain": [
       "<Figure size 720x360 with 1 Axes>"
      ]
     },
     "metadata": {
      "needs_background": "light"
     },
     "output_type": "display_data"
    }
   ],
   "source": [
    "# visualize the percentage of the most common words by python\n",
    "\n",
    "(word_counts.assign(p_Python = word_counts.Python/word_counts['all'])\n",
    " .sort_values(by='all')[['p_Python']]\n",
    " .tail(20)\n",
    " .sort_values('p_Python')\n",
    " .plot.barh(stacked=True, color =['#BFBCCB','#B3AA92','#7FD189','#FFF1D6','#A5A5A5'])\n",
    ")\n",
    "\n",
    "plt.title(\"Proportion of Languages for the 20 most common words in our text sample\")\n",
    "plt.legend(loc = 2, bbox_to_anchor = (1,1), title='Language Proportion')"
   ]
  },
  {
   "cell_type": "code",
   "execution_count": null,
   "id": "31d4f1af",
   "metadata": {},
   "outputs": [],
   "source": []
  }
 ],
 "metadata": {
  "kernelspec": {
   "display_name": "Python 3 (ipykernel)",
   "language": "python",
   "name": "python3"
  },
  "language_info": {
   "codemirror_mode": {
    "name": "ipython",
    "version": 3
   },
   "file_extension": ".py",
   "mimetype": "text/x-python",
   "name": "python",
   "nbconvert_exporter": "python",
   "pygments_lexer": "ipython3",
   "version": "3.9.7"
  }
 },
 "nbformat": 4,
 "nbformat_minor": 5
}
