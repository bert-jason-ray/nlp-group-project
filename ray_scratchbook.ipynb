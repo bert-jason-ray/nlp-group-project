{
 "cells": [
  {
   "cell_type": "code",
   "execution_count": 1,
   "id": "b6911b6c",
   "metadata": {},
   "outputs": [
    {
     "name": "stderr",
     "output_type": "stream",
     "text": [
      "<frozen importlib._bootstrap>:228: RuntimeWarning: scipy._lib.messagestream.MessageStream size changed, may indicate binary incompatibility. Expected 56 from C header, got 64 from PyObject\n"
     ]
    }
   ],
   "source": [
    "import os\n",
    "import json\n",
    "from typing import Dict, List, Optional, Union, cast\n",
    "import requests\n",
    "import pandas as pd\n",
    "from env import github_token, github_username\n",
    "\n",
    "import prepare\n",
    "import acquire\n",
    "#import explore\n",
    "#import model\n",
    "from acquire import scrape_github_data\n",
    "from acquire import get_github_data\n",
    "import unicodedata\n",
    "import re\n",
    "import json\n",
    "\n",
    "import nltk\n",
    "from nltk.tokenize.toktok import ToktokTokenizer\n",
    "from nltk.corpus import stopwords\n",
    "from wordcloud import WordCloud\n",
    "\n",
    "from sklearn.model_selection import train_test_split\n",
    "from sklearn.linear_model import LogisticRegression\n",
    "from sklearn.metrics import classification_report, accuracy_score\n",
    "from sklearn.feature_extraction.text import TfidfVectorizer\n",
    "from sklearn.neighbors import KNeighborsClassifier\n",
    "from sklearn.metrics import confusion_matrix\n",
    "from sklearn.ensemble import RandomForestClassifier\n",
    "from sklearn.tree import DecisionTreeClassifier\n",
    "\n",
    "import matplotlib.pyplot as plt\n",
    "import seaborn as sns\n",
    "\n",
    "import warnings\n",
    "warnings.filter=\"ignore\"\n",
    "\n",
    "from bs4 import BeautifulSoup"
   ]
  },
  {
   "cell_type": "markdown",
   "id": "cd1ccf68",
   "metadata": {},
   "source": [
    "musicbot_df = scrape_github_data()"
   ]
  },
  {
   "cell_type": "markdown",
   "id": "ee4e5b66",
   "metadata": {},
   "source": [
    "musicbot_df"
   ]
  },
  {
   "cell_type": "markdown",
   "id": "5c507b68",
   "metadata": {},
   "source": [
    "musicbot_df = pd.DataFrame(musicbot_df)\n",
    "musicbot_df"
   ]
  },
  {
   "cell_type": "code",
   "execution_count": 2,
   "id": "02b89b75",
   "metadata": {},
   "outputs": [],
   "source": [
    "df = get_github_data()\n"
   ]
  },
  {
   "cell_type": "code",
   "execution_count": 3,
   "id": "c8e0827d",
   "metadata": {},
   "outputs": [
    {
     "data": {
      "text/plain": [
       "(200, 3)"
      ]
     },
     "execution_count": 3,
     "metadata": {},
     "output_type": "execute_result"
    }
   ],
   "source": [
    "df.shape\n"
   ]
  },
  {
   "cell_type": "code",
   "execution_count": 4,
   "id": "5510c15e",
   "metadata": {},
   "outputs": [
    {
     "data": {
      "text/html": [
       "<div>\n",
       "<style scoped>\n",
       "    .dataframe tbody tr th:only-of-type {\n",
       "        vertical-align: middle;\n",
       "    }\n",
       "\n",
       "    .dataframe tbody tr th {\n",
       "        vertical-align: top;\n",
       "    }\n",
       "\n",
       "    .dataframe thead th {\n",
       "        text-align: right;\n",
       "    }\n",
       "</style>\n",
       "<table border=\"1\" class=\"dataframe\">\n",
       "  <thead>\n",
       "    <tr style=\"text-align: right;\">\n",
       "      <th></th>\n",
       "      <th>repo</th>\n",
       "      <th>language</th>\n",
       "      <th>readme_contents</th>\n",
       "    </tr>\n",
       "  </thead>\n",
       "  <tbody>\n",
       "    <tr>\n",
       "      <th>0</th>\n",
       "      <td>jagrosh/MusicBot</td>\n",
       "      <td>Java</td>\n",
       "      <td>&lt;img align=\"right\" src=\"https://i.imgur.com/zr...</td>\n",
       "    </tr>\n",
       "    <tr>\n",
       "      <th>1</th>\n",
       "      <td>Just-Some-Bots/MusicBot</td>\n",
       "      <td>Python</td>\n",
       "      <td># MusicBot\\n\\n[![GitHub stars](https://img.shi...</td>\n",
       "    </tr>\n",
       "    <tr>\n",
       "      <th>2</th>\n",
       "      <td>SudhanPlayz/Discord-MusicBot</td>\n",
       "      <td>JavaScript</td>\n",
       "      <td>&lt;h1 align=\"center\"&gt;&lt;img src=\"./assets/logo.gif...</td>\n",
       "    </tr>\n",
       "    <tr>\n",
       "      <th>3</th>\n",
       "      <td>IVETRI/SongPlayRoBot</td>\n",
       "      <td>Python</td>\n",
       "      <td># Check Our New Bot Repo &amp; Video :\\n\\n[Video](...</td>\n",
       "    </tr>\n",
       "    <tr>\n",
       "      <th>4</th>\n",
       "      <td>Splamy/TS3AudioBot</td>\n",
       "      <td>C#</td>\n",
       "      <td># TS3AudioBot\\n\\nThis is a open-source TeamSpe...</td>\n",
       "    </tr>\n",
       "  </tbody>\n",
       "</table>\n",
       "</div>"
      ],
      "text/plain": [
       "                           repo    language  \\\n",
       "0              jagrosh/MusicBot        Java   \n",
       "1       Just-Some-Bots/MusicBot      Python   \n",
       "2  SudhanPlayz/Discord-MusicBot  JavaScript   \n",
       "3          IVETRI/SongPlayRoBot      Python   \n",
       "4            Splamy/TS3AudioBot          C#   \n",
       "\n",
       "                                     readme_contents  \n",
       "0  <img align=\"right\" src=\"https://i.imgur.com/zr...  \n",
       "1  # MusicBot\\n\\n[![GitHub stars](https://img.shi...  \n",
       "2  <h1 align=\"center\"><img src=\"./assets/logo.gif...  \n",
       "3  # Check Our New Bot Repo & Video :\\n\\n[Video](...  \n",
       "4  # TS3AudioBot\\n\\nThis is a open-source TeamSpe...  "
      ]
     },
     "execution_count": 4,
     "metadata": {},
     "output_type": "execute_result"
    }
   ],
   "source": [
    "df.head()\n"
   ]
  },
  {
   "cell_type": "code",
   "execution_count": 5,
   "id": "93e67629",
   "metadata": {},
   "outputs": [
    {
     "name": "stdout",
     "output_type": "stream",
     "text": [
      "<class 'pandas.core.frame.DataFrame'>\n",
      "RangeIndex: 200 entries, 0 to 199\n",
      "Data columns (total 3 columns):\n",
      " #   Column           Non-Null Count  Dtype \n",
      "---  ------           --------------  ----- \n",
      " 0   repo             200 non-null    object\n",
      " 1   language         193 non-null    object\n",
      " 2   readme_contents  186 non-null    object\n",
      "dtypes: object(3)\n",
      "memory usage: 4.8+ KB\n"
     ]
    }
   ],
   "source": [
    "df.info()\n"
   ]
  },
  {
   "cell_type": "code",
   "execution_count": 6,
   "id": "e593e276",
   "metadata": {},
   "outputs": [
    {
     "data": {
      "text/plain": [
       "JavaScript    73\n",
       "Python        60\n",
       "Java          12\n",
       "TypeScript    12\n",
       "Go             8\n",
       "Kotlin         6\n",
       "Shell          5\n",
       "C#             4\n",
       "Dockerfile     2\n",
       "HTML           2\n",
       "C++            2\n",
       "Rust           2\n",
       "CSS            1\n",
       "PHP            1\n",
       "Dart           1\n",
       "Groff          1\n",
       "Ruby           1\n",
       "Name: language, dtype: int64"
      ]
     },
     "execution_count": 6,
     "metadata": {},
     "output_type": "execute_result"
    }
   ],
   "source": [
    "df.language.value_counts()\n"
   ]
  },
  {
   "cell_type": "code",
   "execution_count": 7,
   "id": "4a3c532f",
   "metadata": {},
   "outputs": [],
   "source": [
    "df = df.dropna()\n"
   ]
  },
  {
   "cell_type": "code",
   "execution_count": 8,
   "id": "51aab0c3",
   "metadata": {},
   "outputs": [
    {
     "name": "stdout",
     "output_type": "stream",
     "text": [
      "<class 'pandas.core.frame.DataFrame'>\n",
      "Int64Index: 180 entries, 0 to 198\n",
      "Data columns (total 3 columns):\n",
      " #   Column           Non-Null Count  Dtype \n",
      "---  ------           --------------  ----- \n",
      " 0   repo             180 non-null    object\n",
      " 1   language         180 non-null    object\n",
      " 2   readme_contents  180 non-null    object\n",
      "dtypes: object(3)\n",
      "memory usage: 5.6+ KB\n"
     ]
    }
   ],
   "source": [
    "df.info()\n"
   ]
  },
  {
   "cell_type": "code",
   "execution_count": 9,
   "id": "b6bad5a9",
   "metadata": {},
   "outputs": [
    {
     "ename": "TypeError",
     "evalue": "string indices must be integers",
     "output_type": "error",
     "traceback": [
      "\u001b[0;31m---------------------------------------------------------------------------\u001b[0m",
      "\u001b[0;31mTypeError\u001b[0m                                 Traceback (most recent call last)",
      "Input \u001b[0;32mIn [9]\u001b[0m, in \u001b[0;36m<cell line: 2>\u001b[0;34m()\u001b[0m\n\u001b[1;32m      1\u001b[0m \u001b[38;5;66;03m# prepare the data by creating clean, stemmed and lemmatized columns\u001b[39;00m\n\u001b[0;32m----> 2\u001b[0m df \u001b[38;5;241m=\u001b[39m \u001b[43mprepare\u001b[49m\u001b[38;5;241;43m.\u001b[39;49m\u001b[43mprepare_github_data\u001b[49m\u001b[43m(\u001b[49m\u001b[38;5;124;43m'\u001b[39;49m\u001b[38;5;124;43mgithub_df\u001b[39;49m\u001b[38;5;124;43m'\u001b[39;49m\u001b[43m,\u001b[49m\u001b[43m \u001b[49m\u001b[43mcolumn\u001b[49m\u001b[38;5;241;43m=\u001b[39;49m\u001b[38;5;124;43m'\u001b[39;49m\u001b[38;5;124;43mreadme_contents\u001b[39;49m\u001b[38;5;124;43m'\u001b[39;49m\u001b[43m)\u001b[49m\n",
      "File \u001b[0;32m~/codeup-data-science/nlp-group-project/prepare.py:134\u001b[0m, in \u001b[0;36mprepare_github_data\u001b[0;34m(df, column, extra_words, exclude_words)\u001b[0m\n\u001b[1;32m    126\u001b[0m \u001b[38;5;28;01mdef\u001b[39;00m \u001b[38;5;21mprepare_github_data\u001b[39m(df, column \u001b[38;5;241m=\u001b[39m \u001b[38;5;124m'\u001b[39m\u001b[38;5;124mreadme_contents\u001b[39m\u001b[38;5;124m'\u001b[39m, extra_words\u001b[38;5;241m=\u001b[39m[], exclude_words\u001b[38;5;241m=\u001b[39m[]):\n\u001b[1;32m    127\u001b[0m     \u001b[38;5;124;03m'''\u001b[39;00m\n\u001b[1;32m    128\u001b[0m \u001b[38;5;124;03m    This function take in a df and the content (in string) for the column \u001b[39;00m\n\u001b[1;32m    129\u001b[0m \u001b[38;5;124;03m    with an option to pass lists for additional stopwords (extra_words)\u001b[39;00m\n\u001b[0;32m   (...)\u001b[0m\n\u001b[1;32m    132\u001b[0m \u001b[38;5;124;03m    stemmed text, lemmatized text.\u001b[39;00m\n\u001b[1;32m    133\u001b[0m \u001b[38;5;124;03m    '''\u001b[39;00m\n\u001b[0;32m--> 134\u001b[0m     df[\u001b[38;5;124m'\u001b[39m\u001b[38;5;124mclean\u001b[39m\u001b[38;5;124m'\u001b[39m] \u001b[38;5;241m=\u001b[39m \u001b[43mdf\u001b[49m\u001b[43m[\u001b[49m\u001b[43mcolumn\u001b[49m\u001b[43m]\u001b[49m\u001b[38;5;241m.\u001b[39mapply(basic_clean)\\\n\u001b[1;32m    135\u001b[0m                             \u001b[38;5;241m.\u001b[39mapply(tokenize)\\\n\u001b[1;32m    136\u001b[0m                             \u001b[38;5;241m.\u001b[39mapply(remove_stopwords, \n\u001b[1;32m    137\u001b[0m                                    extra_words\u001b[38;5;241m=\u001b[39mextra_words, exclude_words\u001b[38;5;241m=\u001b[39mexclude_words)\n\u001b[1;32m    139\u001b[0m     df[\u001b[38;5;124m'\u001b[39m\u001b[38;5;124mstemmed\u001b[39m\u001b[38;5;124m'\u001b[39m] \u001b[38;5;241m=\u001b[39m df[\u001b[38;5;124m'\u001b[39m\u001b[38;5;124mclean\u001b[39m\u001b[38;5;124m'\u001b[39m]\u001b[38;5;241m.\u001b[39mapply(stem)\n\u001b[1;32m    141\u001b[0m     df[\u001b[38;5;124m'\u001b[39m\u001b[38;5;124mlemmatized\u001b[39m\u001b[38;5;124m'\u001b[39m] \u001b[38;5;241m=\u001b[39m df[\u001b[38;5;124m'\u001b[39m\u001b[38;5;124mclean\u001b[39m\u001b[38;5;124m'\u001b[39m]\u001b[38;5;241m.\u001b[39mapply(lemmatize)\n",
      "\u001b[0;31mTypeError\u001b[0m: string indices must be integers"
     ]
    }
   ],
   "source": [
    "# prepare the data by creating clean, stemmed and lemmatized columns\n",
    "df = prepare.prepare_github_data('github_df', column='readme_contents')\n"
   ]
  },
  {
   "cell_type": "code",
   "execution_count": null,
   "id": "e7284c05",
   "metadata": {},
   "outputs": [],
   "source": []
  }
 ],
 "metadata": {
  "kernelspec": {
   "display_name": "Python 3 (ipykernel)",
   "language": "python",
   "name": "python3"
  },
  "language_info": {
   "codemirror_mode": {
    "name": "ipython",
    "version": 3
   },
   "file_extension": ".py",
   "mimetype": "text/x-python",
   "name": "python",
   "nbconvert_exporter": "python",
   "pygments_lexer": "ipython3",
   "version": "3.9.7"
  }
 },
 "nbformat": 4,
 "nbformat_minor": 5
}
