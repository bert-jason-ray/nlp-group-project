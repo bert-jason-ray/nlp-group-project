{
 "cells": [
  {
   "cell_type": "code",
   "execution_count": 1,
   "id": "e512f901",
   "metadata": {},
   "outputs": [
    {
     "name": "stderr",
     "output_type": "stream",
     "text": [
      "<frozen importlib._bootstrap>:228: RuntimeWarning: scipy._lib.messagestream.MessageStream size changed, may indicate binary incompatibility. Expected 56 from C header, got 64 from PyObject\n"
     ]
    }
   ],
   "source": [
    "import os\n",
    "import json\n",
    "from typing import Dict, List, Optional, Union, cast\n",
    "import requests\n",
    "import pandas as pd\n",
    "from env import github_token, github_username\n",
    "\n",
    "import prepare\n",
    "import acquire\n",
    "#import explore\n",
    "#import model\n",
    "from acquire import scrape_github_data\n",
    "from acquire import get_github_data\n",
    "import unicodedata\n",
    "import re\n",
    "import json\n",
    "import pandas as pd\n",
    "import numpy as np\n",
    "\n",
    "import nltk\n",
    "from nltk.tokenize.toktok import ToktokTokenizer\n",
    "from nltk.corpus import stopwords\n",
    "from wordcloud import WordCloud\n",
    "\n",
    "from sklearn.model_selection import train_test_split\n",
    "from sklearn.linear_model import LogisticRegression\n",
    "from sklearn.metrics import classification_report, accuracy_score\n",
    "from sklearn.feature_extraction.text import TfidfVectorizer\n",
    "from sklearn.neighbors import KNeighborsClassifier\n",
    "from sklearn.metrics import confusion_matrix\n",
    "from sklearn.ensemble import RandomForestClassifier\n",
    "from sklearn.tree import DecisionTreeClassifier\n",
    "\n",
    "import matplotlib.pyplot as plt\n",
    "import seaborn as sns\n",
    "\n",
    "import warnings\n",
    "warnings.filter=\"ignore\"\n",
    "\n",
    "from bs4 import BeautifulSoup\n",
    "\n"
   ]
  },
  {
   "cell_type": "code",
   "execution_count": 2,
   "id": "3fe767d6",
   "metadata": {},
   "outputs": [],
   "source": [
    "#musicbot_df = scrape_github_data()"
   ]
  },
  {
   "cell_type": "code",
   "execution_count": 3,
   "id": "c0e751b0",
   "metadata": {},
   "outputs": [],
   "source": [
    "#musicbot_df"
   ]
  },
  {
   "cell_type": "code",
   "execution_count": 4,
   "id": "9b989edc",
   "metadata": {},
   "outputs": [],
   "source": [
    "#musicbot_df = pd.DataFrame(musicbot_df)\n",
    "#musicbot_df"
   ]
  },
  {
   "cell_type": "code",
   "execution_count": 5,
   "id": "6cf8c246",
   "metadata": {},
   "outputs": [],
   "source": [
    "df = get_github_data()\n"
   ]
  },
  {
   "cell_type": "code",
   "execution_count": 6,
   "id": "ecfd4bef",
   "metadata": {},
   "outputs": [
    {
     "data": {
      "text/plain": [
       "(200, 3)"
      ]
     },
     "execution_count": 6,
     "metadata": {},
     "output_type": "execute_result"
    }
   ],
   "source": [
    "df.shape\n"
   ]
  },
  {
   "cell_type": "code",
   "execution_count": 7,
   "id": "ff604ab4",
   "metadata": {},
   "outputs": [
    {
     "data": {
      "text/html": [
       "<div>\n",
       "<style scoped>\n",
       "    .dataframe tbody tr th:only-of-type {\n",
       "        vertical-align: middle;\n",
       "    }\n",
       "\n",
       "    .dataframe tbody tr th {\n",
       "        vertical-align: top;\n",
       "    }\n",
       "\n",
       "    .dataframe thead th {\n",
       "        text-align: right;\n",
       "    }\n",
       "</style>\n",
       "<table border=\"1\" class=\"dataframe\">\n",
       "  <thead>\n",
       "    <tr style=\"text-align: right;\">\n",
       "      <th></th>\n",
       "      <th>repo</th>\n",
       "      <th>language</th>\n",
       "      <th>readme_contents</th>\n",
       "    </tr>\n",
       "  </thead>\n",
       "  <tbody>\n",
       "    <tr>\n",
       "      <th>0</th>\n",
       "      <td>jagrosh/MusicBot</td>\n",
       "      <td>Java</td>\n",
       "      <td>&lt;img align=\"right\" src=\"https://i.imgur.com/zr...</td>\n",
       "    </tr>\n",
       "    <tr>\n",
       "      <th>1</th>\n",
       "      <td>Just-Some-Bots/MusicBot</td>\n",
       "      <td>Python</td>\n",
       "      <td># MusicBot\\n\\n[![GitHub stars](https://img.shi...</td>\n",
       "    </tr>\n",
       "    <tr>\n",
       "      <th>2</th>\n",
       "      <td>SudhanPlayz/Discord-MusicBot</td>\n",
       "      <td>JavaScript</td>\n",
       "      <td>&lt;h1 align=\"center\"&gt;&lt;img src=\"./assets/logo.gif...</td>\n",
       "    </tr>\n",
       "    <tr>\n",
       "      <th>3</th>\n",
       "      <td>IVETRI/SongPlayRoBot</td>\n",
       "      <td>Python</td>\n",
       "      <td># Check Our New Bot Repo &amp; Video :\\n\\n[Video](...</td>\n",
       "    </tr>\n",
       "    <tr>\n",
       "      <th>4</th>\n",
       "      <td>Splamy/TS3AudioBot</td>\n",
       "      <td>C#</td>\n",
       "      <td># TS3AudioBot\\n\\nThis is a open-source TeamSpe...</td>\n",
       "    </tr>\n",
       "  </tbody>\n",
       "</table>\n",
       "</div>"
      ],
      "text/plain": [
       "                           repo    language  \\\n",
       "0              jagrosh/MusicBot        Java   \n",
       "1       Just-Some-Bots/MusicBot      Python   \n",
       "2  SudhanPlayz/Discord-MusicBot  JavaScript   \n",
       "3          IVETRI/SongPlayRoBot      Python   \n",
       "4            Splamy/TS3AudioBot          C#   \n",
       "\n",
       "                                     readme_contents  \n",
       "0  <img align=\"right\" src=\"https://i.imgur.com/zr...  \n",
       "1  # MusicBot\\n\\n[![GitHub stars](https://img.shi...  \n",
       "2  <h1 align=\"center\"><img src=\"./assets/logo.gif...  \n",
       "3  # Check Our New Bot Repo & Video :\\n\\n[Video](...  \n",
       "4  # TS3AudioBot\\n\\nThis is a open-source TeamSpe...  "
      ]
     },
     "execution_count": 7,
     "metadata": {},
     "output_type": "execute_result"
    }
   ],
   "source": [
    "df.head()\n"
   ]
  },
  {
   "cell_type": "code",
   "execution_count": 8,
   "id": "14eb24c5",
   "metadata": {},
   "outputs": [
    {
     "name": "stdout",
     "output_type": "stream",
     "text": [
      "<class 'pandas.core.frame.DataFrame'>\n",
      "RangeIndex: 200 entries, 0 to 199\n",
      "Data columns (total 3 columns):\n",
      " #   Column           Non-Null Count  Dtype \n",
      "---  ------           --------------  ----- \n",
      " 0   repo             200 non-null    object\n",
      " 1   language         193 non-null    object\n",
      " 2   readme_contents  186 non-null    object\n",
      "dtypes: object(3)\n",
      "memory usage: 4.8+ KB\n"
     ]
    }
   ],
   "source": [
    "df.info()\n"
   ]
  },
  {
   "cell_type": "code",
   "execution_count": 9,
   "id": "8eed8076",
   "metadata": {},
   "outputs": [
    {
     "data": {
      "text/plain": [
       "JavaScript    73\n",
       "Python        60\n",
       "Java          12\n",
       "TypeScript    12\n",
       "Go             8\n",
       "Kotlin         6\n",
       "Shell          5\n",
       "C#             4\n",
       "Dockerfile     2\n",
       "HTML           2\n",
       "C++            2\n",
       "Rust           2\n",
       "CSS            1\n",
       "PHP            1\n",
       "Dart           1\n",
       "Groff          1\n",
       "Ruby           1\n",
       "Name: language, dtype: int64"
      ]
     },
     "execution_count": 9,
     "metadata": {},
     "output_type": "execute_result"
    }
   ],
   "source": [
    "df.language.value_counts()\n"
   ]
  },
  {
   "cell_type": "code",
   "execution_count": 10,
   "id": "4e7d8f7c",
   "metadata": {},
   "outputs": [],
   "source": [
    "#df = df.dropna()"
   ]
  },
  {
   "cell_type": "code",
   "execution_count": 11,
   "id": "c67343f5",
   "metadata": {},
   "outputs": [
    {
     "name": "stdout",
     "output_type": "stream",
     "text": [
      "<class 'pandas.core.frame.DataFrame'>\n",
      "RangeIndex: 200 entries, 0 to 199\n",
      "Data columns (total 3 columns):\n",
      " #   Column           Non-Null Count  Dtype \n",
      "---  ------           --------------  ----- \n",
      " 0   repo             200 non-null    object\n",
      " 1   language         193 non-null    object\n",
      " 2   readme_contents  186 non-null    object\n",
      "dtypes: object(3)\n",
      "memory usage: 4.8+ KB\n"
     ]
    }
   ],
   "source": [
    "df.info()\n"
   ]
  },
  {
   "cell_type": "code",
   "execution_count": 12,
   "id": "a195e513",
   "metadata": {},
   "outputs": [
    {
     "data": {
      "text/html": [
       "<div>\n",
       "<style scoped>\n",
       "    .dataframe tbody tr th:only-of-type {\n",
       "        vertical-align: middle;\n",
       "    }\n",
       "\n",
       "    .dataframe tbody tr th {\n",
       "        vertical-align: top;\n",
       "    }\n",
       "\n",
       "    .dataframe thead th {\n",
       "        text-align: right;\n",
       "    }\n",
       "</style>\n",
       "<table border=\"1\" class=\"dataframe\">\n",
       "  <thead>\n",
       "    <tr style=\"text-align: right;\">\n",
       "      <th></th>\n",
       "      <th>repo</th>\n",
       "      <th>language</th>\n",
       "      <th>readme_contents</th>\n",
       "    </tr>\n",
       "  </thead>\n",
       "  <tbody>\n",
       "    <tr>\n",
       "      <th>0</th>\n",
       "      <td>jagrosh/MusicBot</td>\n",
       "      <td>Java</td>\n",
       "      <td>&lt;img align=\"right\" src=\"https://i.imgur.com/zr...</td>\n",
       "    </tr>\n",
       "    <tr>\n",
       "      <th>1</th>\n",
       "      <td>Just-Some-Bots/MusicBot</td>\n",
       "      <td>Python</td>\n",
       "      <td># MusicBot\\n\\n[![GitHub stars](https://img.shi...</td>\n",
       "    </tr>\n",
       "    <tr>\n",
       "      <th>2</th>\n",
       "      <td>SudhanPlayz/Discord-MusicBot</td>\n",
       "      <td>JavaScript</td>\n",
       "      <td>&lt;h1 align=\"center\"&gt;&lt;img src=\"./assets/logo.gif...</td>\n",
       "    </tr>\n",
       "    <tr>\n",
       "      <th>3</th>\n",
       "      <td>IVETRI/SongPlayRoBot</td>\n",
       "      <td>Python</td>\n",
       "      <td># Check Our New Bot Repo &amp; Video :\\n\\n[Video](...</td>\n",
       "    </tr>\n",
       "    <tr>\n",
       "      <th>4</th>\n",
       "      <td>Splamy/TS3AudioBot</td>\n",
       "      <td>C#</td>\n",
       "      <td># TS3AudioBot\\n\\nThis is a open-source TeamSpe...</td>\n",
       "    </tr>\n",
       "    <tr>\n",
       "      <th>...</th>\n",
       "      <td>...</td>\n",
       "      <td>...</td>\n",
       "      <td>...</td>\n",
       "    </tr>\n",
       "    <tr>\n",
       "      <th>195</th>\n",
       "      <td>Davidremo02/LazyMusicbot</td>\n",
       "      <td>NaN</td>\n",
       "      <td>&lt;h2 align=\"centre\"&gt;Telegram Group Music Player...</td>\n",
       "    </tr>\n",
       "    <tr>\n",
       "      <th>196</th>\n",
       "      <td>MrRizoel/RiZoeLXMusic</td>\n",
       "      <td>Python</td>\n",
       "      <td>&lt;h2 align=\"centre\"&gt;ℝ𝚒ℤ𝚘𝚎𝕃𝕏𝕄𝚞𝚜𝚒𝚌 🎵&lt;/h2&gt;\\n\\n### ...</td>\n",
       "    </tr>\n",
       "    <tr>\n",
       "      <th>197</th>\n",
       "      <td>noirscape/MusicBot-2</td>\n",
       "      <td>Python</td>\n",
       "      <td># Dynamic cog bot template\\n\\nThis is a bot te...</td>\n",
       "    </tr>\n",
       "    <tr>\n",
       "      <th>198</th>\n",
       "      <td>bhkvlldu/MusicBot</td>\n",
       "      <td>Python</td>\n",
       "      <td># ⌯ Source zoro ˹♻️˼⁩\\n\\n• I am a developer in...</td>\n",
       "    </tr>\n",
       "    <tr>\n",
       "      <th>199</th>\n",
       "      <td>niccholaspage/MusicBot</td>\n",
       "      <td>Java</td>\n",
       "      <td>NaN</td>\n",
       "    </tr>\n",
       "  </tbody>\n",
       "</table>\n",
       "<p>200 rows × 3 columns</p>\n",
       "</div>"
      ],
      "text/plain": [
       "                             repo    language  \\\n",
       "0                jagrosh/MusicBot        Java   \n",
       "1         Just-Some-Bots/MusicBot      Python   \n",
       "2    SudhanPlayz/Discord-MusicBot  JavaScript   \n",
       "3            IVETRI/SongPlayRoBot      Python   \n",
       "4              Splamy/TS3AudioBot          C#   \n",
       "..                            ...         ...   \n",
       "195      Davidremo02/LazyMusicbot         NaN   \n",
       "196         MrRizoel/RiZoeLXMusic      Python   \n",
       "197          noirscape/MusicBot-2      Python   \n",
       "198             bhkvlldu/MusicBot      Python   \n",
       "199        niccholaspage/MusicBot        Java   \n",
       "\n",
       "                                       readme_contents  \n",
       "0    <img align=\"right\" src=\"https://i.imgur.com/zr...  \n",
       "1    # MusicBot\\n\\n[![GitHub stars](https://img.shi...  \n",
       "2    <h1 align=\"center\"><img src=\"./assets/logo.gif...  \n",
       "3    # Check Our New Bot Repo & Video :\\n\\n[Video](...  \n",
       "4    # TS3AudioBot\\n\\nThis is a open-source TeamSpe...  \n",
       "..                                                 ...  \n",
       "195  <h2 align=\"centre\">Telegram Group Music Player...  \n",
       "196  <h2 align=\"centre\">ℝ𝚒ℤ𝚘𝚎𝕃𝕏𝕄𝚞𝚜𝚒𝚌 🎵</h2>\\n\\n### ...  \n",
       "197  # Dynamic cog bot template\\n\\nThis is a bot te...  \n",
       "198  # ⌯ Source zoro ˹♻️˼⁩\\n\\n• I am a developer in...  \n",
       "199                                                NaN  \n",
       "\n",
       "[200 rows x 3 columns]"
      ]
     },
     "execution_count": 12,
     "metadata": {},
     "output_type": "execute_result"
    }
   ],
   "source": [
    "df"
   ]
  },
  {
   "cell_type": "code",
   "execution_count": 13,
   "id": "dbb3f529",
   "metadata": {},
   "outputs": [],
   "source": [
    "# prepare the data by creating clean, stemmed and lemmatized columns\n",
    "df = prepare.prep_github_data(df, column='readme_contents')\n"
   ]
  },
  {
   "cell_type": "code",
   "execution_count": 14,
   "id": "52467daf",
   "metadata": {},
   "outputs": [
    {
     "data": {
      "text/html": [
       "<div>\n",
       "<style scoped>\n",
       "    .dataframe tbody tr th:only-of-type {\n",
       "        vertical-align: middle;\n",
       "    }\n",
       "\n",
       "    .dataframe tbody tr th {\n",
       "        vertical-align: top;\n",
       "    }\n",
       "\n",
       "    .dataframe thead th {\n",
       "        text-align: right;\n",
       "    }\n",
       "</style>\n",
       "<table border=\"1\" class=\"dataframe\">\n",
       "  <thead>\n",
       "    <tr style=\"text-align: right;\">\n",
       "      <th></th>\n",
       "      <th>repo</th>\n",
       "      <th>language</th>\n",
       "      <th>readme_contents</th>\n",
       "      <th>clean</th>\n",
       "      <th>stemmed</th>\n",
       "      <th>lemmatized</th>\n",
       "    </tr>\n",
       "  </thead>\n",
       "  <tbody>\n",
       "    <tr>\n",
       "      <th>0</th>\n",
       "      <td>jagrosh/MusicBot</td>\n",
       "      <td>Java</td>\n",
       "      <td>&lt;img align=\"right\" src=\"https://i.imgur.com/zr...</td>\n",
       "      <td>img alignright srchttpsiimgurcomzre80hypng hei...</td>\n",
       "      <td>img alignright srchttpsiimgurcomzre80hypng hei...</td>\n",
       "      <td>img alignright srchttpsiimgurcomzre80hypng hei...</td>\n",
       "    </tr>\n",
       "    <tr>\n",
       "      <th>1</th>\n",
       "      <td>Just-Some-Bots/MusicBot</td>\n",
       "      <td>Python</td>\n",
       "      <td># MusicBot\\n\\n[![GitHub stars](https://img.shi...</td>\n",
       "      <td>musicbot github starshttpsimgshieldsiogithubst...</td>\n",
       "      <td>musicbot github starshttpsimgshieldsiogithubst...</td>\n",
       "      <td>musicbot github starshttpsimgshieldsiogithubst...</td>\n",
       "    </tr>\n",
       "    <tr>\n",
       "      <th>2</th>\n",
       "      <td>SudhanPlayz/Discord-MusicBot</td>\n",
       "      <td>JavaScript</td>\n",
       "      <td>&lt;h1 align=\"center\"&gt;&lt;img src=\"./assets/logo.gif...</td>\n",
       "      <td>h1 aligncenterimg srcassetslogogif width30px d...</td>\n",
       "      <td>h1 aligncenterimg srcassetslogogif width30px d...</td>\n",
       "      <td>h1 aligncenterimg srcassetslogogif width30px d...</td>\n",
       "    </tr>\n",
       "    <tr>\n",
       "      <th>3</th>\n",
       "      <td>IVETRI/SongPlayRoBot</td>\n",
       "      <td>Python</td>\n",
       "      <td># Check Our New Bot Repo &amp; Video :\\n\\n[Video](...</td>\n",
       "      <td>check new bot repo video videohttpsyoutube3pn0...</td>\n",
       "      <td>check new bot repo video videohttpsyoutube3pn0...</td>\n",
       "      <td>check new bot repo video videohttpsyoutube3pn0...</td>\n",
       "    </tr>\n",
       "    <tr>\n",
       "      <th>5</th>\n",
       "      <td>galnir/Master-Bot</td>\n",
       "      <td>TypeScript</td>\n",
       "      <td># A Discord Music Bot written in TypeScript Sa...</td>\n",
       "      <td>discord music bot written typescript sapphire ...</td>\n",
       "      <td>discord music bot written typescript sapphir d...</td>\n",
       "      <td>discord music bot written typescript sapphire ...</td>\n",
       "    </tr>\n",
       "    <tr>\n",
       "      <th>...</th>\n",
       "      <td>...</td>\n",
       "      <td>...</td>\n",
       "      <td>...</td>\n",
       "      <td>...</td>\n",
       "      <td>...</td>\n",
       "      <td>...</td>\n",
       "    </tr>\n",
       "    <tr>\n",
       "      <th>192</th>\n",
       "      <td>Micium-Development/Bounce</td>\n",
       "      <td>JavaScript</td>\n",
       "      <td>### 📥 Micium-Development Is recruiting develop...</td>\n",
       "      <td>miciumdevelopment recruiting developers want j...</td>\n",
       "      <td>miciumdevelop recruit develop want join dev te...</td>\n",
       "      <td>miciumdevelopment recruiting developer want jo...</td>\n",
       "    </tr>\n",
       "    <tr>\n",
       "      <th>193</th>\n",
       "      <td>philliphqs/hqs.bot</td>\n",
       "      <td>Python</td>\n",
       "      <td>&lt;br /&gt;\\n&lt;p align=\"center\"&gt;\\n  &lt;a href=\"https:/...</td>\n",
       "      <td>br p aligncenter hrefhttpsgithubcomphilliphqsh...</td>\n",
       "      <td>br p aligncent hrefhttpsgithubcomphilliphqshqs...</td>\n",
       "      <td>br p aligncenter hrefhttpsgithubcomphilliphqsh...</td>\n",
       "    </tr>\n",
       "    <tr>\n",
       "      <th>196</th>\n",
       "      <td>MrRizoel/RiZoeLXMusic</td>\n",
       "      <td>Python</td>\n",
       "      <td>&lt;h2 align=\"centre\"&gt;ℝ𝚒ℤ𝚘𝚎𝕃𝕏𝕄𝚞𝚜𝚒𝚌 🎵&lt;/h2&gt;\\n\\n### ...</td>\n",
       "      <td>h2 aligncentrerizoelxmusic h2 bot play music t...</td>\n",
       "      <td>h2 aligncentrerizoelxmus h2 bot play music tel...</td>\n",
       "      <td>h2 aligncentrerizoelxmusic h2 bot play music t...</td>\n",
       "    </tr>\n",
       "    <tr>\n",
       "      <th>197</th>\n",
       "      <td>noirscape/MusicBot-2</td>\n",
       "      <td>Python</td>\n",
       "      <td># Dynamic cog bot template\\n\\nThis is a bot te...</td>\n",
       "      <td>dynamic cog bot template bot template discordp...</td>\n",
       "      <td>dynam cog bot templat bot templat discordpi fr...</td>\n",
       "      <td>dynamic cog bot template bot template discordp...</td>\n",
       "    </tr>\n",
       "    <tr>\n",
       "      <th>198</th>\n",
       "      <td>bhkvlldu/MusicBot</td>\n",
       "      <td>Python</td>\n",
       "      <td># ⌯ Source zoro ˹♻️˼⁩\\n\\n• I am a developer in...</td>\n",
       "      <td>source zoro developer python library telebot p...</td>\n",
       "      <td>sourc zoro develop python librari telebot pyro...</td>\n",
       "      <td>source zoro developer python library telebot p...</td>\n",
       "    </tr>\n",
       "  </tbody>\n",
       "</table>\n",
       "<p>160 rows × 6 columns</p>\n",
       "</div>"
      ],
      "text/plain": [
       "                             repo    language  \\\n",
       "0                jagrosh/MusicBot        Java   \n",
       "1         Just-Some-Bots/MusicBot      Python   \n",
       "2    SudhanPlayz/Discord-MusicBot  JavaScript   \n",
       "3            IVETRI/SongPlayRoBot      Python   \n",
       "5               galnir/Master-Bot  TypeScript   \n",
       "..                            ...         ...   \n",
       "192     Micium-Development/Bounce  JavaScript   \n",
       "193            philliphqs/hqs.bot      Python   \n",
       "196         MrRizoel/RiZoeLXMusic      Python   \n",
       "197          noirscape/MusicBot-2      Python   \n",
       "198             bhkvlldu/MusicBot      Python   \n",
       "\n",
       "                                       readme_contents  \\\n",
       "0    <img align=\"right\" src=\"https://i.imgur.com/zr...   \n",
       "1    # MusicBot\\n\\n[![GitHub stars](https://img.shi...   \n",
       "2    <h1 align=\"center\"><img src=\"./assets/logo.gif...   \n",
       "3    # Check Our New Bot Repo & Video :\\n\\n[Video](...   \n",
       "5    # A Discord Music Bot written in TypeScript Sa...   \n",
       "..                                                 ...   \n",
       "192  ### 📥 Micium-Development Is recruiting develop...   \n",
       "193  <br />\\n<p align=\"center\">\\n  <a href=\"https:/...   \n",
       "196  <h2 align=\"centre\">ℝ𝚒ℤ𝚘𝚎𝕃𝕏𝕄𝚞𝚜𝚒𝚌 🎵</h2>\\n\\n### ...   \n",
       "197  # Dynamic cog bot template\\n\\nThis is a bot te...   \n",
       "198  # ⌯ Source zoro ˹♻️˼⁩\\n\\n• I am a developer in...   \n",
       "\n",
       "                                                 clean  \\\n",
       "0    img alignright srchttpsiimgurcomzre80hypng hei...   \n",
       "1    musicbot github starshttpsimgshieldsiogithubst...   \n",
       "2    h1 aligncenterimg srcassetslogogif width30px d...   \n",
       "3    check new bot repo video videohttpsyoutube3pn0...   \n",
       "5    discord music bot written typescript sapphire ...   \n",
       "..                                                 ...   \n",
       "192  miciumdevelopment recruiting developers want j...   \n",
       "193  br p aligncenter hrefhttpsgithubcomphilliphqsh...   \n",
       "196  h2 aligncentrerizoelxmusic h2 bot play music t...   \n",
       "197  dynamic cog bot template bot template discordp...   \n",
       "198  source zoro developer python library telebot p...   \n",
       "\n",
       "                                               stemmed  \\\n",
       "0    img alignright srchttpsiimgurcomzre80hypng hei...   \n",
       "1    musicbot github starshttpsimgshieldsiogithubst...   \n",
       "2    h1 aligncenterimg srcassetslogogif width30px d...   \n",
       "3    check new bot repo video videohttpsyoutube3pn0...   \n",
       "5    discord music bot written typescript sapphir d...   \n",
       "..                                                 ...   \n",
       "192  miciumdevelop recruit develop want join dev te...   \n",
       "193  br p aligncent hrefhttpsgithubcomphilliphqshqs...   \n",
       "196  h2 aligncentrerizoelxmus h2 bot play music tel...   \n",
       "197  dynam cog bot templat bot templat discordpi fr...   \n",
       "198  sourc zoro develop python librari telebot pyro...   \n",
       "\n",
       "                                            lemmatized  \n",
       "0    img alignright srchttpsiimgurcomzre80hypng hei...  \n",
       "1    musicbot github starshttpsimgshieldsiogithubst...  \n",
       "2    h1 aligncenterimg srcassetslogogif width30px d...  \n",
       "3    check new bot repo video videohttpsyoutube3pn0...  \n",
       "5    discord music bot written typescript sapphire ...  \n",
       "..                                                 ...  \n",
       "192  miciumdevelopment recruiting developer want jo...  \n",
       "193  br p aligncenter hrefhttpsgithubcomphilliphqsh...  \n",
       "196  h2 aligncentrerizoelxmusic h2 bot play music t...  \n",
       "197  dynamic cog bot template bot template discordp...  \n",
       "198  source zoro developer python library telebot p...  \n",
       "\n",
       "[160 rows x 6 columns]"
      ]
     },
     "execution_count": 14,
     "metadata": {},
     "output_type": "execute_result"
    }
   ],
   "source": [
    "df"
   ]
  },
  {
   "cell_type": "code",
   "execution_count": 15,
   "id": "d07d9e96",
   "metadata": {},
   "outputs": [],
   "source": [
    "# splits my data\n",
    "#train_validate, test = train_test_split(df, test_size = 0.2, random_state = 123)\n",
    "#train, validate = train_test_split(train_validate, test_size = 0.30, random_state = 123)\n",
    "#print(train.shape, validate.shape, test.shape)"
   ]
  },
  {
   "cell_type": "code",
   "execution_count": 16,
   "id": "32753dfc",
   "metadata": {},
   "outputs": [
    {
     "name": "stdout",
     "output_type": "stream",
     "text": [
      "train---> (89, 6)\n",
      "validate---> (39, 6)\n",
      "test---> (32, 6)\n"
     ]
    }
   ],
   "source": [
    "train, validate, test = prepare.split_github_data(df)"
   ]
  },
  {
   "cell_type": "code",
   "execution_count": 17,
   "id": "0faef726",
   "metadata": {},
   "outputs": [
    {
     "data": {
      "text/plain": [
       "(89, 6)"
      ]
     },
     "execution_count": 17,
     "metadata": {},
     "output_type": "execute_result"
    }
   ],
   "source": [
    "train.shape"
   ]
  },
  {
   "cell_type": "code",
   "execution_count": null,
   "id": "a2465b30",
   "metadata": {},
   "outputs": [],
   "source": []
  }
 ],
 "metadata": {
  "kernelspec": {
   "display_name": "Python 3 (ipykernel)",
   "language": "python",
   "name": "python3"
  },
  "language_info": {
   "codemirror_mode": {
    "name": "ipython",
    "version": 3
   },
   "file_extension": ".py",
   "mimetype": "text/x-python",
   "name": "python",
   "nbconvert_exporter": "python",
   "pygments_lexer": "ipython3",
   "version": "3.9.7"
  }
 },
 "nbformat": 4,
 "nbformat_minor": 5
}
